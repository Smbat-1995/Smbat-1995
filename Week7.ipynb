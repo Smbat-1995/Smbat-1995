{
  "nbformat": 4,
  "nbformat_minor": 0,
  "metadata": {
    "colab": {
      "name": "Добро пожаловать в Colaboratory!",
      "provenance": [],
      "collapsed_sections": [],
      "include_colab_link": true
    },
    "kernelspec": {
      "display_name": "Python 3",
      "name": "python3"
    }
  },
  "cells": [
    {
      "cell_type": "markdown",
      "metadata": {
        "id": "view-in-github",
        "colab_type": "text"
      },
      "source": [
        "<a href=\"https://colab.research.google.com/github/Smbat-1995/Smbat-1995/blob/main/Week7.ipynb\" target=\"_parent\"><img src=\"https://colab.research.google.com/assets/colab-badge.svg\" alt=\"Open In Colab\"/></a>"
      ]
    },
    {
      "cell_type": "markdown",
      "metadata": {
        "id": "0f81AX-8YFDa"
      },
      "source": [
        "# Functions"
      ]
    },
    {
      "cell_type": "code",
      "metadata": {
        "id": "1vlE5uTOaJMa"
      },
      "source": [
        "def hi_there():\n",
        "  print('Hello everyone')"
      ],
      "execution_count": 27,
      "outputs": []
    },
    {
      "cell_type": "code",
      "metadata": {
        "colab": {
          "base_uri": "https://localhost:8080/"
        },
        "id": "v8jKBZ3-y9ZI",
        "outputId": "f7149e9a-1250-4290-9e78-bb69bc6294b5"
      },
      "source": [
        "x = 7\n",
        "def dif(x):\n",
        "  x += 5\n",
        "  return x\n",
        "print(dif(x))\n",
        "print(x)"
      ],
      "execution_count": 100,
      "outputs": [
        {
          "output_type": "stream",
          "text": [
            "12\n",
            "7\n"
          ],
          "name": "stdout"
        }
      ]
    },
    {
      "cell_type": "code",
      "metadata": {
        "colab": {
          "base_uri": "https://localhost:8080/"
        },
        "id": "lMxgb3kIejt0",
        "outputId": "e71789a0-e5a7-4595-c30b-93dd4a206cea"
      },
      "source": [
        "print('I am calling my function:')\n",
        "hi_there()\n",
        "print('Function works well!')"
      ],
      "execution_count": 28,
      "outputs": [
        {
          "output_type": "stream",
          "text": [
            "I am calling my function:\n",
            "Hello everyone\n",
            "Function works well!\n"
          ],
          "name": "stdout"
        }
      ]
    },
    {
      "cell_type": "markdown",
      "metadata": {
        "id": "bEQGLZ6Tgfh-"
      },
      "source": [
        "### Parameters and arguments"
      ]
    },
    {
      "cell_type": "code",
      "metadata": {
        "id": "SPkiIFJAyN2g"
      },
      "source": [
        ""
      ],
      "execution_count": null,
      "outputs": []
    },
    {
      "cell_type": "code",
      "metadata": {
        "colab": {
          "base_uri": "https://localhost:8080/"
        },
        "id": "xLgkR7Dbge-0",
        "outputId": "7e57350f-734e-4997-d722-c20025876901"
      },
      "source": [
        "def hi_there(name):\n",
        "  print('Hello '+name)\n",
        "hi_there('Ani')\n",
        "hi_there('Smbat')"
      ],
      "execution_count": 91,
      "outputs": [
        {
          "output_type": "stream",
          "text": [
            "Hello Ani\n",
            "Hello Smbat\n"
          ],
          "name": "stdout"
        }
      ]
    },
    {
      "cell_type": "code",
      "metadata": {
        "id": "4IJWWXLX09q_"
      },
      "source": [
        ""
      ],
      "execution_count": null,
      "outputs": []
    },
    {
      "cell_type": "code",
      "metadata": {
        "colab": {
          "base_uri": "https://localhost:8080/",
          "height": 198
        },
        "id": "pY7lYGF609hL",
        "outputId": "839ed490-d666-42b9-bc43-977efc7fca56"
      },
      "source": [
        "def hi_there(name):\n",
        "  print('Hello '+name)\n",
        "hi_there()"
      ],
      "execution_count": 101,
      "outputs": [
        {
          "output_type": "error",
          "ename": "TypeError",
          "evalue": "ignored",
          "traceback": [
            "\u001b[0;31m---------------------------------------------------------------------------\u001b[0m",
            "\u001b[0;31mTypeError\u001b[0m                                 Traceback (most recent call last)",
            "\u001b[0;32m<ipython-input-101-f71fadf4bf06>\u001b[0m in \u001b[0;36m<module>\u001b[0;34m()\u001b[0m\n\u001b[1;32m      1\u001b[0m \u001b[0;32mdef\u001b[0m \u001b[0mhi_there\u001b[0m\u001b[0;34m(\u001b[0m\u001b[0mname\u001b[0m\u001b[0;34m)\u001b[0m\u001b[0;34m:\u001b[0m\u001b[0;34m\u001b[0m\u001b[0;34m\u001b[0m\u001b[0m\n\u001b[1;32m      2\u001b[0m   \u001b[0mprint\u001b[0m\u001b[0;34m(\u001b[0m\u001b[0;34m'Hello '\u001b[0m\u001b[0;34m+\u001b[0m\u001b[0mname\u001b[0m\u001b[0;34m)\u001b[0m\u001b[0;34m\u001b[0m\u001b[0;34m\u001b[0m\u001b[0m\n\u001b[0;32m----> 3\u001b[0;31m \u001b[0mhi_there\u001b[0m\u001b[0;34m(\u001b[0m\u001b[0;34m)\u001b[0m\u001b[0;34m\u001b[0m\u001b[0;34m\u001b[0m\u001b[0m\n\u001b[0m",
            "\u001b[0;31mTypeError\u001b[0m: hi_there() missing 1 required positional argument: 'name'"
          ]
        }
      ]
    },
    {
      "cell_type": "code",
      "metadata": {
        "id": "TpdglhYL09TT"
      },
      "source": [
        ""
      ],
      "execution_count": null,
      "outputs": []
    },
    {
      "cell_type": "code",
      "metadata": {
        "colab": {
          "base_uri": "https://localhost:8080/"
        },
        "id": "N94nj3xAg43s",
        "outputId": "cf9ac0b3-67d1-437c-abfb-9e7174ef7581"
      },
      "source": [
        "def hi_there(name,age):\n",
        "  print(f'Hello {name}, you are {age} years old')\n",
        "\n",
        "hi_there('Smbat',25)\n",
        "hi_there('Artak',40)"
      ],
      "execution_count": 33,
      "outputs": [
        {
          "output_type": "stream",
          "text": [
            "Hello Smbat, you are 25 years old\n",
            "Hello Artak, you are 40 years old\n"
          ],
          "name": "stdout"
        }
      ]
    },
    {
      "cell_type": "code",
      "metadata": {
        "id": "Kyf9rAMP26aD"
      },
      "source": [
        ""
      ],
      "execution_count": null,
      "outputs": []
    },
    {
      "cell_type": "markdown",
      "metadata": {
        "id": "ExG8qnhm260-"
      },
      "source": [
        "Positional arguments and keyword arguments"
      ]
    },
    {
      "cell_type": "code",
      "metadata": {
        "colab": {
          "base_uri": "https://localhost:8080/"
        },
        "id": "W_Q8KNj526dQ",
        "outputId": "4b17eb64-d7b8-4a54-d324-a893eda88215"
      },
      "source": [
        "def hi_there(name,age):\n",
        "  print(f'Hello {name}, you are {age} years old')\n",
        "\n",
        "hi_there('Smbat',25) # Positional\n",
        "hi_there(name='Smbat',age=25) #Keyword\n",
        "hi_there(age=25 , name='Smbat')\n",
        "hi_there('Smbat',age=25)"
      ],
      "execution_count": 112,
      "outputs": [
        {
          "output_type": "stream",
          "text": [
            "Hello Smbat, you are 25 years old\n",
            "Hello Smbat, you are 25 years old\n",
            "Hello Smbat, you are 25 years old\n",
            "Hello Smbat, you are 25 years old\n"
          ],
          "name": "stdout"
        }
      ]
    },
    {
      "cell_type": "code",
      "metadata": {
        "id": "OzvWo7Lx3lSE"
      },
      "source": [
        ""
      ],
      "execution_count": null,
      "outputs": []
    },
    {
      "cell_type": "code",
      "metadata": {
        "colab": {
          "base_uri": "https://localhost:8080/",
          "height": 130
        },
        "id": "W1gWTJkJ3hUP",
        "outputId": "5cd2efdc-fc62-4ae6-bf02-14218466c0ca"
      },
      "source": [
        "def hi_there(name,age):\n",
        "  print(f'Hello {name}, you are {age} years old')\n",
        "\n",
        "hi_there(name='Smbat',25)"
      ],
      "execution_count": 113,
      "outputs": [
        {
          "output_type": "error",
          "ename": "SyntaxError",
          "evalue": "ignored",
          "traceback": [
            "\u001b[0;36m  File \u001b[0;32m\"<ipython-input-113-7b0ed54f73af>\"\u001b[0;36m, line \u001b[0;32m4\u001b[0m\n\u001b[0;31m    hi_there(name='Smbat',25)\u001b[0m\n\u001b[0m                         ^\u001b[0m\n\u001b[0;31mSyntaxError\u001b[0m\u001b[0;31m:\u001b[0m positional argument follows keyword argument\n"
          ]
        }
      ]
    },
    {
      "cell_type": "code",
      "metadata": {
        "id": "sNYb7C3y3hRz"
      },
      "source": [
        ""
      ],
      "execution_count": null,
      "outputs": []
    },
    {
      "cell_type": "code",
      "metadata": {
        "id": "HdeBY-8rnObF"
      },
      "source": [
        "def function(args,kwargs,*args,**kwargs)"
      ],
      "execution_count": null,
      "outputs": []
    },
    {
      "cell_type": "code",
      "metadata": {
        "id": "yqveLUDVinrl"
      },
      "source": [
        ""
      ],
      "execution_count": null,
      "outputs": []
    },
    {
      "cell_type": "markdown",
      "metadata": {
        "id": "ytkCGyTnioOY"
      },
      "source": [
        "Create a function that cubes the given number"
      ]
    },
    {
      "cell_type": "code",
      "metadata": {
        "id": "PX3vyfQ4hZN1"
      },
      "source": [
        ""
      ],
      "execution_count": null,
      "outputs": []
    },
    {
      "cell_type": "markdown",
      "metadata": {
        "id": "oxRxI2rXhZnz"
      },
      "source": [
        "## Return statement"
      ]
    },
    {
      "cell_type": "code",
      "metadata": {
        "id": "CPa_fzonhcJk"
      },
      "source": [
        "def cube(num):\n",
        "  num**3\n",
        "\n",
        "cube(5)"
      ],
      "execution_count": 46,
      "outputs": []
    },
    {
      "cell_type": "code",
      "metadata": {
        "id": "ZlqNMBZZkIbS"
      },
      "source": [
        ""
      ],
      "execution_count": null,
      "outputs": []
    },
    {
      "cell_type": "code",
      "metadata": {
        "id": "3sNgeePUjjeS"
      },
      "source": [
        ""
      ],
      "execution_count": null,
      "outputs": []
    },
    {
      "cell_type": "code",
      "metadata": {
        "colab": {
          "base_uri": "https://localhost:8080/"
        },
        "id": "duwlvQmNjjgp",
        "outputId": "8ee2ea2c-b0f6-4799-997a-4af7950e9c44"
      },
      "source": [
        "def cube(num):\n",
        "  return num**3\n",
        "print(cube(5))"
      ],
      "execution_count": 121,
      "outputs": [
        {
          "output_type": "stream",
          "text": [
            "125\n"
          ],
          "name": "stdout"
        }
      ]
    },
    {
      "cell_type": "code",
      "metadata": {
        "id": "DSmnOp9e6G1s"
      },
      "source": [
        ""
      ],
      "execution_count": null,
      "outputs": []
    },
    {
      "cell_type": "code",
      "metadata": {
        "colab": {
          "base_uri": "https://localhost:8080/"
        },
        "id": "_3tSVnyu6HGB",
        "outputId": "0bff36e2-b61c-4f46-b62a-8b978b3380a2"
      },
      "source": [
        "def cube(num):\n",
        "  print(num**3)\n",
        "print(cube(5))"
      ],
      "execution_count": 125,
      "outputs": [
        {
          "output_type": "stream",
          "text": [
            "125\n",
            "None\n"
          ],
          "name": "stdout"
        }
      ]
    },
    {
      "cell_type": "code",
      "metadata": {
        "id": "ZhorQbrCkI6T"
      },
      "source": [
        ""
      ],
      "execution_count": null,
      "outputs": []
    },
    {
      "cell_type": "code",
      "metadata": {
        "colab": {
          "base_uri": "https://localhost:8080/"
        },
        "id": "dlQ3GPS9kI_r",
        "outputId": "2e9b7c04-4b72-46de-846c-8c96dad4bfbb"
      },
      "source": [
        "def cube(num):\n",
        "  return num**3\n",
        "  print()\n",
        "\n",
        "a = cube(5)\n",
        "print('Cube is ',a)"
      ],
      "execution_count": 50,
      "outputs": [
        {
          "output_type": "stream",
          "text": [
            "Cube is  125\n"
          ],
          "name": "stdout"
        }
      ]
    },
    {
      "cell_type": "code",
      "metadata": {
        "id": "5EVMO7xIkmEh"
      },
      "source": [
        ""
      ],
      "execution_count": null,
      "outputs": []
    }
  ]
}