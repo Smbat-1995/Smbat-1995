{
 "cells": [
  {
   "cell_type": "markdown",
   "metadata": {},
   "source": [
    "### 1. Գրեք կոդ, որը կտպի` \n",
    "**Hello! This is my first homework**"
   ]
  },
  {
   "cell_type": "code",
   "execution_count": 1,
   "metadata": {},
   "outputs": [
    {
     "name": "stdout",
     "output_type": "stream",
     "text": [
      "Hello! This is my first homework\n"
     ]
    }
   ],
   "source": [
    "print(\"Hello! This is my first homework\")"
   ]
  },
  {
   "cell_type": "markdown",
   "metadata": {},
   "source": [
    "### 2. Գրեք կոդ, որը կտպի Թումանյանի քառյակը հետևյալ տեսքով\n",
    "\n",
    "Աշնան ամպին ու զամպին,\n",
    "    \n",
    "    Մոլոր նըստած իր ճըմբին,\n",
    "    \n",
    "        Լոռու հանդում մի արտուտ\n",
    "    \n",
    "            Նայում է միշտ իմ ճամփին։"
   ]
  },
  {
   "cell_type": "code",
   "execution_count": 10,
   "metadata": {},
   "outputs": [
    {
     "name": "stdout",
     "output_type": "stream",
     "text": [
      "Աշնան ամպին ու զամպին,\n",
      "\t \tՄոլոր նըստած իր ճըմբին,\n",
      "\t\tԼոռու հանդում մի արտուտ\n",
      "\t\tՆայում է միշտ իմ ճամփին\n",
      "\t:\n"
     ]
    }
   ],
   "source": [
    "print(\"Աշնան ամպին ու զամպին,\\n\\t \\tՄոլոր նըստած իր ճըմբին,\\n\\t\\tԼոռու հանդում մի արտուտ\\n\\t\\tՆայում է միշտ իմ ճամփին\\n\\t:\")\n",
    "\n",
    "\n"
   ]
  },
  {
   "cell_type": "markdown",
   "metadata": {},
   "source": [
    "### 3. Գտեք հետևյալ կոդերից որն է կամ որոնք են սխալ syntax-ով գրված: Գրեք ճիշտ ձևը\n",
    "* print['Hello world!']\n",
    "\n",
    "\n",
    "* Print(\"Hello world!\")\n",
    "\n",
    "\n",
    "* print('Hello world!')\n",
    "\n",
    "\n",
    "* print('Hello world!)"
   ]
  },
  {
   "cell_type": "markdown",
   "metadata": {},
   "source": [
    "### 4. Հետևյալ տարբերակներից, ո՞րը  կամ որո՞նք են ճիշտ ձևով սահմանում փոփոխական: Առանձնացրեք ճիշտ տարբերակը/տարբերակները\n",
    "\n",
    "* int age = 15\n",
    "\n",
    "* name = 'Ani''\n",
    "\n",
    "* city = 'Yerevan'\n",
    "\n",
    "* university == 'ASUE'"
   ]
  },
  {
   "cell_type": "code",
   "execution_count": null,
   "metadata": {},
   "outputs": [],
   "source": [
    "int age = 15, city = 'Yerevan'"
   ]
  },
  {
   "cell_type": "markdown",
   "metadata": {},
   "source": [
    "### 5. Ստեղծեք name անունով փոփոխական ու դրան վերագրեք Ձեր անունը ."
   ]
  },
  {
   "cell_type": "code",
   "execution_count": 11,
   "metadata": {},
   "outputs": [],
   "source": [
    "name=\"Armen\"\n"
   ]
  },
  {
   "cell_type": "markdown",
   "metadata": {},
   "source": [
    "### 6. Ստեղծեք carname անունով փոփոխական ու դրան վերագրեք BMW անունը ."
   ]
  },
  {
   "cell_type": "code",
   "execution_count": 12,
   "metadata": {},
   "outputs": [],
   "source": [
    "carname=\"BMW\""
   ]
  },
  {
   "cell_type": "markdown",
   "metadata": {},
   "source": [
    "### 7. Ստեղծեք year անունով փոփոխական ու դրան վերագրեք 2015 թիվը ."
   ]
  },
  {
   "cell_type": "code",
   "execution_count": 13,
   "metadata": {},
   "outputs": [],
   "source": [
    "year=2015"
   ]
  },
  {
   "cell_type": "markdown",
   "metadata": {},
   "source": [
    "### 8. Վերոնշյալ փոփոխականներով կազմեք նախադասություն:\n",
    "\n",
    "Օրինակ` Armen owns BMW since 2015"
   ]
  },
  {
   "cell_type": "code",
   "execution_count": 15,
   "metadata": {},
   "outputs": [
    {
     "name": "stdout",
     "output_type": "stream",
     "text": [
      " Armen owns BMW  since 2015 \n"
     ]
    }
   ],
   "source": [
    "print(\"\",name,\"owns\",carname,\" since\",2015,\"\");"
   ]
  },
  {
   "cell_type": "code",
   "execution_count": null,
   "metadata": {},
   "outputs": [],
   "source": []
  }
 ],
 "metadata": {
  "kernelspec": {
   "display_name": "Python 3",
   "language": "python",
   "name": "python3"
  },
  "language_info": {
   "codemirror_mode": {
    "name": "ipython",
    "version": 3
   },
   "file_extension": ".py",
   "mimetype": "text/x-python",
   "name": "python",
   "nbconvert_exporter": "python",
   "pygments_lexer": "ipython3",
   "version": "3.8.5"
  }
 },
 "nbformat": 4,
 "nbformat_minor": 4
}
