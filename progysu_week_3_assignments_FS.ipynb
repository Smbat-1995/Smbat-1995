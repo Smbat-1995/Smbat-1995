{
 "cells": [
  {
   "cell_type": "markdown",
   "metadata": {},
   "source": [
    "### Week 2. Assignments\n"
   ]
  },
  {
   "cell_type": "markdown",
   "metadata": {},
   "source": [
    "1. The assignment is considered passed if you have done 9 of the tasks. \n",
    "2. They should be sent by next Thursday."
   ]
  },
  {
   "cell_type": "markdown",
   "metadata": {},
   "source": [
    "Notes:  To complete each exercise you should expect to use some or all of these Python features:\n",
    "\n",
    "1. Define function\n",
    "2. Use control flows (for, while, if/else)\n",
    "3. Use lists \n"
   ]
  },
  {
   "cell_type": "markdown",
   "metadata": {},
   "source": [
    "__Exercise 1: Maximum__\n",
    "\n",
    "Write a function my_max(x,y) that returns the maximum of x and y. Do not use the max function, but use if/else instead.\n",
    "\n",
    "Input: my_max(5,10) <br>\n",
    "Output: 10"
   ]
  },
  {
   "cell_type": "markdown",
   "metadata": {},
   "source": [
    "__Exercise 2: Polynomial__\n",
    "    \n",
    "Write a function that evaluates the polynomial $3x^2 - x + 2$\n",
    "\n",
    "Input: polynomial(2) <br>\n",
    "Output: 12\n"
   ]
  },
  {
   "cell_type": "markdown",
   "metadata": {},
   "source": [
    "__Exercise 3: Prime numbers__\n",
    "\n",
    "A prime number is an integer greater than 1 that is only divisible by one and itself. Write a function that determines whether or not its parameter is prime, returning True if it is, and False otherwise. Write a main program that reads an integer from the user and displays a message indicating whether or not it is prime.\n",
    "\n",
    "Input: prime(7) <br>\n",
    "Output: True"
   ]
  },
  {
   "cell_type": "markdown",
   "metadata": {},
   "source": [
    "__Exercise 4: Arithmetic Progression__\n",
    "\n",
    "The input of the program consists of five integers: $n$, $a_n$, $m$, $a_m$ and $k$. $a_n$ is the n-th member of arithmetic progression, $a_m$ is the m-th. You may assume that all n, m and k are positive and $n<m$ and the progression consists only of whole numbers. Output the k-th member of the progression.\n",
    "\n",
    "Input: $n$ = 4, $a_n$ = 4, $m$ = 7, $a_m$ = 7, $k$ = 9 <br>\n",
    "Output: 9\n"
   ]
  },
  {
   "cell_type": "markdown",
   "metadata": {},
   "source": [
    "__Exercise 5 : Perfect Numbers__\n",
    "\n",
    "An integer, n, is said to be perfect when the sum of all of the proper divisors of n is equal to n. For example, 28 is a perfect number because its proper divisors are 1, 2, 4, 7 and 14, and 1 + 2 + 4 + 7 + 14 = 28.\n",
    "\n",
    "Write a function that determines whether or not a positive integer is perfect.Your function will take one parameter.If that parameter is a perfect number then your function will return true.Otherwise it will return false.In addition, write a main program that uses your function to identify and display all of the perfect numbers between 1 and 10,000."
   ]
  },
  {
   "cell_type": "markdown",
   "metadata": {},
   "source": [
    "__Exercise 6: Create a list__\n",
    "1. Given the list [[1,2,3,4,5],[6,7,8,9],[10,11,12]] return [7,8]\n",
    "2. Given the list [[1,2,3,4,5],[6,7,8,9],[10,11,12]] return [[4,5][6,7]]\n",
    " \n",
    "3. Given the list: Ls= [[1,2,3,4,5],[6,7,8,9],[10,11,12]]\n",
    "create [5,4,3,9,10,10]\n",
    "4. Write a program that return it in reverse order. [[12,11,10],[9,8,7,6],[5,4,3,2,1]]\n",
    "\n",
    "Note: use *,+ (the behavior is a bit different in case of lists)\n"
   ]
  },
  {
   "cell_type": "markdown",
   "metadata": {},
   "source": [
    "__Exercise 7: Average of a list__\n",
    "\n",
    "Write a program that computes the average of the list of integeres.\n",
    "\n",
    "Input: [1, 2, 3] <br>\n",
    "Output: 2"
   ]
  },
  {
   "cell_type": "markdown",
   "metadata": {},
   "source": [
    "__Exercise 8: Line of Best Fit__\n",
    "\n",
    "A line of best ﬁt is a straight line that best approximates a collection of n datapoints. In this exercise, we will assume that each point in the collection has an x coordinate anda y coordinate.The symbols $\\bar{x}$ and $\\bar{y}$ are used to represent the average x value in the lists respectively. The line of best ﬁt is represented by the equation $y = mx+b$ where m and b are calculated using the following formulas:\n",
    "\n",
    "$m = \\dfrac{\\sum{xy} - \\dfrac{(\\sum{x})(\\sum{y})}{n}}{ \\sum{x^2} - \\dfrac{(\\sum{x}^2)}{n}}$\n",
    "\n",
    "$ b = \\bar{y} - m\\bar{x}$\n",
    "\n",
    "Write a program that accepts 2 lists from the user (x and y). Display the formula for the line of best ﬁt in the form y =mx+b by replacing m and b with the values you calculated using the preceding formulas. \n",
    "\n",
    "Input: [1, 2, 3], [1, 2.1, 2.9] <br>\n",
    "Output: $ y= 0.95x + 0.1$\n",
    "\n",
    "Note: You can use len(x) to get the count of the elements of the list."
   ]
  },
  {
   "attachments": {
    "Capture.PNG": {
     "image/png": "[encoded data removed]"
    }
   },
   "cell_type": "markdown",
   "metadata": {},
   "source": [
    "__Exercise 9: Collatz sequence__\n",
    "\n",
    "A Collatz sequence is formed as follows: We start with some number x0, and we ﬁnd the next number in the sequence by \n",
    "\n",
    "![Capture.PNG](attachment:Capture.PNG)\n",
    "\n",
    "\n",
    "If $x_i$ = 1, we stop iterating and have found the full sequence. \n",
    "\n",
    "Input: 5 <br>\n",
    "Output 5 16 8 4 2 1 "
   ]
  },
  {
   "cell_type": "markdown",
   "metadata": {},
   "source": [
    "__Exercise 10: Lucky Number__\n",
    "\n",
    "Lets call a number lucky if the sum of its digits on even positions is equal to the sum of digits on odd positions. Let's consider 15224. the sum of odd positions are 1 + 2 + 4 = 7. The sum of digits on even positions is 5 + 2 = 7. Thus, 15224 is lucky number. Write a function which will return 'Yes' if the number is Lucky and No if the number is not."
   ]
  },
  {
   "cell_type": "markdown",
   "metadata": {},
   "source": [
    "__Exercise 11:Cyclic Shift__\n",
    "\n",
    "The function accepts 2 list of the same length and value of the length. Then return if the two lists are cyclic shifts of one another.\n",
    "\n",
    "Input: \n",
    "[1,2,3,4,5]\n",
    "[5,4,3,2,1]\n",
    "5\n",
    "Output: Yes"
   ]
  },
  {
   "cell_type": "markdown",
   "metadata": {},
   "source": [
    "__Exersice 12: Generate All Sublists of a List__\n",
    "\n",
    "Write a function that returns a list of every possible sublist of a list. For example, the sublists of [1, 2, 3] are [], [1], [2], [3], [1, 2], [2, 3] and [1, 2, 3]. Note that your function will always return a list containing at least the empty list because the empty list is a sublist of every list. Include a main program that demonstrate your function by displaying all of the sublists of several different lists.\n",
    "\n",
    "Note: use a.append(x) to add x to the list a. "
   ]
  },
  {
   "cell_type": "markdown",
   "metadata": {},
   "source": [
    "__Exercise 13*: The Sieve of Eratosthenes__\n",
    "\n",
    "The Sieve of Eratosthenes is a technique that was developed more than 2,000 years ago to easily ﬁnd all of the prime numbers between 2 and some limit, say 100. A description of the algorithm follows:\n",
    "\n",
    "- Write down all of the numbers from 0 to the limit Cross out 0 and 1 because - they are not prime <br>\n",
    "- Set p equal to 2 <br.\n",
    "- While p is less than the limit <br>\n",
    "- do Cross out all multiples of p (but not p itself) <br>\n",
    "- Set p equal to the next number in the list that is not crossed out <br>\n",
    "\n",
    "Report all of the numbers that have not been crossed out as prime.\n",
    "\n",
    "The key to this algorithm is that it is relatively easy to cross out every nth number on a piece of paper.This is also an easy task for a computer — a for loop can simulate this behavior when a third parameter is provided to the range function. When a number is crossed out, we know that it is no longer prime,but it still occupies space on the piece of paper,and must still be considered when computing later prime numbers.\n",
    "\n",
    "As a result, you should not simulate crossing out a number by removing it from the list.Instead,you should simulate crossing out a number by replacing it with 0.Then, once the algorithm completes, all of the non-zero values in the list are prime. Create a Python program that uses this algorithm to display all of the prime numbers between 2 and a limit entered by the user. If you implement the algorithm correctly you should be able to display all of the prime numbers less than 1,000,000 in a few seconds."
   ]
  },
  {
   "cell_type": "markdown",
   "metadata": {},
   "source": [
    "__Exercise 14*: Sorting__\n",
    "\n",
    "Define a function which accepts a list of integers and the sort order(asc or disc) and returns it the sorted list. Don't use sort but define it from scratch.\n",
    "\n",
    "Input: sort([1,3,2],'asc') <br>\n",
    "Output: [1,2,3] "
   ]
  }
 ],
 "metadata": {
  "kernelspec": {
   "display_name": "Python 3",
   "language": "python",
   "name": "python3"
  },
  "language_info": {
   "codemirror_mode": {
    "name": "ipython",
    "version": 3
   },
   "file_extension": ".py",
   "mimetype": "text/x-python",
   "name": "python",
   "nbconvert_exporter": "python",
   "pygments_lexer": "ipython3",
   "version": "3.7.10"
  }
 },
 "nbformat": 4,
 "nbformat_minor": 2
}
