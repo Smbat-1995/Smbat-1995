{
  "nbformat": 4,
  "nbformat_minor": 0,
  "metadata": {
    "kernelspec": {
      "display_name": "Python 3",
      "language": "python",
      "name": "python3"
    },
    "language_info": {
      "codemirror_mode": {
        "name": "ipython",
        "version": 3
      },
      "file_extension": ".py",
      "mimetype": "text/x-python",
      "name": "python",
      "nbconvert_exporter": "python",
      "pygments_lexer": "ipython3",
      "version": "3.7.6"
    },
    "colab": {
      "name": "Lesson_2.1.ipynb",
      "provenance": [],
      "collapsed_sections": [
        "lRa1OVLJ7bNo",
        "SeZXtKUS7bNr",
        "Zu2Uvtlo7bNx",
        "zDAuSLfi7bN1",
        "Z1ivunMP7bN8",
        "Wq62yewx7bOB"
      ]
    }
  },
  "cells": [
    {
      "cell_type": "markdown",
      "metadata": {
        "id": "xFJVBSle7bNW"
      },
      "source": [
        "# Recap of last lesson"
      ]
    },
    {
      "cell_type": "markdown",
      "metadata": {
        "id": "-V0Mqqc67bNa"
      },
      "source": [
        "### Working with strings"
      ]
    },
    {
      "cell_type": "markdown",
      "metadata": {
        "id": "fGZBz6ai7bNa"
      },
      "source": [
        "Printing a string"
      ]
    },
    {
      "cell_type": "code",
      "metadata": {
        "id": "JJU6PGhH7bNb",
        "outputId": "66de627f-e854-41ff-dd87-f50a869cf573"
      },
      "source": [
        "print('This is string')"
      ],
      "execution_count": null,
      "outputs": [
        {
          "output_type": "stream",
          "text": [
            "This is string\n"
          ],
          "name": "stdout"
        }
      ]
    },
    {
      "cell_type": "code",
      "metadata": {
        "id": "cGDvTodb7bNc"
      },
      "source": [
        ""
      ],
      "execution_count": null,
      "outputs": []
    },
    {
      "cell_type": "markdown",
      "metadata": {
        "id": "SqvxQfOZ7bNc"
      },
      "source": [
        "New line"
      ]
    },
    {
      "cell_type": "code",
      "metadata": {
        "id": "9OvuS-2s7bNc",
        "outputId": "127c9e35-ccfd-4fb7-e335-d11b2eb63995"
      },
      "source": [
        "print('This is\\nstring')"
      ],
      "execution_count": null,
      "outputs": [
        {
          "output_type": "stream",
          "text": [
            "This is\n",
            "string\n"
          ],
          "name": "stdout"
        }
      ]
    },
    {
      "cell_type": "markdown",
      "metadata": {
        "id": "bbamKXDV7bNc"
      },
      "source": [
        "Tab"
      ]
    },
    {
      "cell_type": "code",
      "metadata": {
        "id": "D3jMSqSa7bNd",
        "outputId": "e84527b1-96aa-4a6d-da18-784ada0613f4"
      },
      "source": [
        "print('This is \\tstring')"
      ],
      "execution_count": null,
      "outputs": [
        {
          "output_type": "stream",
          "text": [
            "This is \tstring\n"
          ],
          "name": "stdout"
        }
      ]
    },
    {
      "cell_type": "markdown",
      "metadata": {
        "id": "NqDTU84H7bNd"
      },
      "source": [
        "\" \""
      ]
    },
    {
      "cell_type": "code",
      "metadata": {
        "colab": {
          "base_uri": "https://localhost:8080/"
        },
        "id": "_4K6cymV7bNd",
        "outputId": "18987641-ec87-4881-fd32-19fe8592a349"
      },
      "source": [
        "print(\"This is \\\"string\\\"\")"
      ],
      "execution_count": null,
      "outputs": [
        {
          "output_type": "stream",
          "text": [
            "This is \"string\"\n"
          ],
          "name": "stdout"
        }
      ]
    },
    {
      "cell_type": "markdown",
      "metadata": {
        "id": "VlWXvro87bNd"
      },
      "source": [
        "Backslash"
      ]
    },
    {
      "cell_type": "code",
      "metadata": {
        "id": "67PcT76i7bNe",
        "outputId": "6a6afb3f-8ead-4dbc-ef4d-fdf321696dde"
      },
      "source": [
        "print('This is\\string')"
      ],
      "execution_count": null,
      "outputs": [
        {
          "output_type": "stream",
          "text": [
            "This is\\string\n"
          ],
          "name": "stdout"
        }
      ]
    },
    {
      "cell_type": "markdown",
      "metadata": {
        "id": "gs1ajTRT7bNe"
      },
      "source": [
        "Storing in variable"
      ]
    },
    {
      "cell_type": "code",
      "metadata": {
        "colab": {
          "base_uri": "https://localhost:8080/"
        },
        "id": "m_Lqw4k97bNe",
        "outputId": "95d543ce-2534-4d45-d378-2592cb9561d9"
      },
      "source": [
        "text = 'we are in Yerevan.'\n",
        "print(text)"
      ],
      "execution_count": null,
      "outputs": [
        {
          "output_type": "stream",
          "text": [
            "we are in Yerevan.\n"
          ],
          "name": "stdout"
        }
      ]
    },
    {
      "cell_type": "code",
      "metadata": {
        "id": "ROQBdBvv7bNf"
      },
      "source": [
        ""
      ],
      "execution_count": null,
      "outputs": []
    },
    {
      "cell_type": "code",
      "metadata": {
        "id": "VHLsvSQD7bNf",
        "outputId": "33babf43-2925-4bef-bd93-86abb7d71c53"
      },
      "source": [
        "print(type(text))"
      ],
      "execution_count": null,
      "outputs": [
        {
          "output_type": "stream",
          "text": [
            "<class 'str'>\n"
          ],
          "name": "stdout"
        }
      ]
    },
    {
      "cell_type": "markdown",
      "metadata": {
        "id": "ebCOS4-h7bNf"
      },
      "source": [
        "Concatination"
      ]
    },
    {
      "cell_type": "code",
      "metadata": {
        "id": "DoLBsLor7bNf",
        "outputId": "db8adae5-6ac3-4fc4-d61a-4476c04994bd"
      },
      "source": [
        "print(text+' The wether is fine here')"
      ],
      "execution_count": null,
      "outputs": [
        {
          "output_type": "stream",
          "text": [
            "we are in Yerevan. The wether is fine here\n"
          ],
          "name": "stdout"
        }
      ]
    },
    {
      "cell_type": "markdown",
      "metadata": {
        "id": "gn62kSTw7bNf"
      },
      "source": [
        "Functions"
      ]
    },
    {
      "cell_type": "code",
      "metadata": {
        "colab": {
          "base_uri": "https://localhost:8080/"
        },
        "id": "CxKAHlyb7bNf",
        "outputId": "8d30ea5e-667b-4942-e99e-40b22c9d8ab6"
      },
      "source": [
        "print(text.capitalize())"
      ],
      "execution_count": null,
      "outputs": [
        {
          "output_type": "stream",
          "text": [
            "We are in yerevan.\n"
          ],
          "name": "stdout"
        }
      ]
    },
    {
      "cell_type": "code",
      "metadata": {
        "id": "FY4VvEjX7bNg",
        "outputId": "1bfc4c67-f32b-41d4-cfa6-eddec68e7bd6"
      },
      "source": [
        "print(text.upper())"
      ],
      "execution_count": null,
      "outputs": [
        {
          "output_type": "stream",
          "text": [
            "WE ARE IN YEREVAN.\n"
          ],
          "name": "stdout"
        }
      ]
    },
    {
      "cell_type": "code",
      "metadata": {
        "id": "Vm0kFEna7bNg",
        "outputId": "95f22d12-8d8a-42c7-b5d7-25fa2dc3e770"
      },
      "source": [
        "print(text.isupper())"
      ],
      "execution_count": null,
      "outputs": [
        {
          "output_type": "stream",
          "text": [
            "False\n"
          ],
          "name": "stdout"
        }
      ]
    },
    {
      "cell_type": "code",
      "metadata": {
        "id": "VSIPnSev7bNg",
        "outputId": "4a382866-9a8d-4e48-dd96-b5295bea2bbc"
      },
      "source": [
        "print(text.upper().isupper())"
      ],
      "execution_count": null,
      "outputs": [
        {
          "output_type": "stream",
          "text": [
            "True\n"
          ],
          "name": "stdout"
        }
      ]
    },
    {
      "cell_type": "code",
      "metadata": {
        "id": "AlvcS_WO7bNg",
        "outputId": "bba6b178-76e4-4ce8-b8a5-e6e29e6f4042"
      },
      "source": [
        "print(len(text))"
      ],
      "execution_count": null,
      "outputs": [
        {
          "output_type": "stream",
          "text": [
            "18\n"
          ],
          "name": "stdout"
        }
      ]
    },
    {
      "cell_type": "code",
      "metadata": {
        "id": "0hNOshk-7bNh",
        "outputId": "9a918634-9301-4a05-ac34-dd69a5f1e7a4"
      },
      "source": [
        "text = 'we are in Yerevan.'\n",
        "        0123\n",
        "print(text[1])"
      ],
      "execution_count": null,
      "outputs": [
        {
          "output_type": "stream",
          "text": [
            "e\n"
          ],
          "name": "stdout"
        }
      ]
    },
    {
      "cell_type": "code",
      "metadata": {
        "id": "ozq0Rdh37bNh",
        "outputId": "efedb5ee-bd35-4abb-d1df-414ac42e7c38"
      },
      "source": [
        "text = 'we are in Yerevan.'\n",
        "        01234567\n",
        "print(text[1:4])"
      ],
      "execution_count": null,
      "outputs": [
        {
          "output_type": "stream",
          "text": [
            "e a\n"
          ],
          "name": "stdout"
        }
      ]
    },
    {
      "cell_type": "code",
      "metadata": {
        "id": "CQIHEvO87bNh",
        "outputId": "05324ff0-2773-4380-c822-f297387544a3"
      },
      "source": [
        "text = 'we are in Yerevan.'\n",
        "                        -1\n",
        "print(text[-5:-2])"
      ],
      "execution_count": null,
      "outputs": [
        {
          "output_type": "stream",
          "text": [
            "eva\n"
          ],
          "name": "stdout"
        }
      ]
    },
    {
      "cell_type": "code",
      "metadata": {
        "id": "iTT3b90k7bNh"
      },
      "source": [
        ""
      ],
      "execution_count": null,
      "outputs": []
    },
    {
      "cell_type": "markdown",
      "metadata": {
        "id": "1lkXGYGV7bNh"
      },
      "source": [
        "Search"
      ]
    },
    {
      "cell_type": "code",
      "metadata": {
        "id": "b9RaOnWn7bNi",
        "outputId": "9e1d57dd-595f-4dde-96da-e4fbe4b8497e"
      },
      "source": [
        "print(text.find('Yere'))"
      ],
      "execution_count": null,
      "outputs": [
        {
          "output_type": "stream",
          "text": [
            "10\n"
          ],
          "name": "stdout"
        }
      ]
    },
    {
      "cell_type": "code",
      "metadata": {
        "colab": {
          "base_uri": "https://localhost:8080/"
        },
        "id": "wtmv9o317bNi",
        "outputId": "bbf953ea-b410-4769-926c-4460b9c9fa7d"
      },
      "source": [
        "print(text.find('Z'))"
      ],
      "execution_count": null,
      "outputs": [
        {
          "output_type": "stream",
          "text": [
            "-1\n"
          ],
          "name": "stdout"
        }
      ]
    },
    {
      "cell_type": "code",
      "metadata": {
        "scrolled": true,
        "id": "RypcZhnC7bNi",
        "outputId": "a6787eec-70c8-4eee-b2f3-ee45b811310e"
      },
      "source": [
        "print(text.replace('Yerevan','Gyumri'))"
      ],
      "execution_count": null,
      "outputs": [
        {
          "output_type": "stream",
          "text": [
            "We are in Gyumri.\n"
          ],
          "name": "stdout"
        }
      ]
    },
    {
      "cell_type": "markdown",
      "metadata": {
        "id": "MV6fiTxc7bNi"
      },
      "source": [
        "Other"
      ]
    },
    {
      "cell_type": "code",
      "metadata": {
        "id": "NPN-xXAr7bNi",
        "outputId": "8fad2a3b-d329-4dc9-8138-ee67ee49f7b0"
      },
      "source": [
        "print(text.title())"
      ],
      "execution_count": null,
      "outputs": [
        {
          "output_type": "stream",
          "text": [
            "We Are In Yerevan.\n"
          ],
          "name": "stdout"
        }
      ]
    },
    {
      "cell_type": "code",
      "metadata": {
        "id": "n_RaRPqM7bNj",
        "outputId": "97257fa7-0c0d-4ce3-c9a4-fba5ce72142e"
      },
      "source": [
        "print('Yerevan' in text)"
      ],
      "execution_count": null,
      "outputs": [
        {
          "output_type": "stream",
          "text": [
            "True\n"
          ],
          "name": "stdout"
        }
      ]
    },
    {
      "cell_type": "code",
      "metadata": {
        "id": "ZJNgPVib7bNj"
      },
      "source": [
        ""
      ],
      "execution_count": null,
      "outputs": []
    },
    {
      "cell_type": "code",
      "metadata": {
        "id": "ojWslIWO7bNj",
        "outputId": "61e95501-80a4-4d7d-efeb-aca556ea79b4"
      },
      "source": [
        "print('Yerevan' not in text)"
      ],
      "execution_count": null,
      "outputs": [
        {
          "output_type": "stream",
          "text": [
            "False\n"
          ],
          "name": "stdout"
        }
      ]
    },
    {
      "cell_type": "code",
      "metadata": {
        "id": "1GDbrsU27bNj",
        "outputId": "4b792fb8-9ae4-4d92-e950-10f3a1aaf6de"
      },
      "source": [
        "print(text.count('Madrid'))"
      ],
      "execution_count": null,
      "outputs": [
        {
          "output_type": "stream",
          "text": [
            "0\n"
          ],
          "name": "stdout"
        }
      ]
    },
    {
      "cell_type": "code",
      "metadata": {
        "id": "OHcgxf3O7bNj",
        "outputId": "35f91e68-0132-4992-f81e-1c544f90a711"
      },
      "source": [
        "print('  Madrid  '.strip())"
      ],
      "execution_count": null,
      "outputs": [
        {
          "output_type": "stream",
          "text": [
            "Madrid\n"
          ],
          "name": "stdout"
        }
      ]
    },
    {
      "cell_type": "code",
      "metadata": {
        "id": "NvC8OKqt7bNj",
        "outputId": "4463fdd0-789a-4cf5-ea87-ffef910fd3b3"
      },
      "source": [
        "txt = \",,,,,rrttgg.....banana....rrr\"\n",
        "\n",
        "x = txt.strip(\",.grt\")\n",
        "\n",
        "print(x)"
      ],
      "execution_count": null,
      "outputs": [
        {
          "output_type": "stream",
          "text": [
            "banana\n"
          ],
          "name": "stdout"
        }
      ]
    },
    {
      "cell_type": "code",
      "metadata": {
        "id": "RYLtGyYj7bNk",
        "outputId": "ce007153-2b9e-4ea4-f67d-579c15350692"
      },
      "source": [
        "print(text.split())"
      ],
      "execution_count": null,
      "outputs": [
        {
          "output_type": "stream",
          "text": [
            "['We', 'are', 'in', 'Yerevan.']\n"
          ],
          "name": "stdout"
        }
      ]
    },
    {
      "cell_type": "code",
      "metadata": {
        "id": "qGgXzYkk7bNk",
        "outputId": "2d1a5901-4d6d-416d-a7bc-f113331e51e7"
      },
      "source": [
        "print(text*3)"
      ],
      "execution_count": null,
      "outputs": [
        {
          "output_type": "stream",
          "text": [
            "We are in Yerevan.We are in Yerevan.We are in Yerevan.\n"
          ],
          "name": "stdout"
        }
      ]
    },
    {
      "cell_type": "code",
      "metadata": {
        "id": "Xs-RHPho8X30"
      },
      "source": [
        ""
      ],
      "execution_count": null,
      "outputs": []
    },
    {
      "cell_type": "code",
      "metadata": {
        "id": "C0F58n7b8Z9x"
      },
      "source": [
        ""
      ],
      "execution_count": null,
      "outputs": []
    },
    {
      "cell_type": "code",
      "metadata": {
        "id": "ohZnRQI_7bNk",
        "outputId": "3cd4bb43-442a-4e9e-b54f-c35bf0bf8c8b"
      },
      "source": [
        "print(\"x\"*7)\n",
        "print(\"x\"*2)\n",
        "print(\"x\"*4)\n",
        "print(\"x\"*2)\n",
        "print(\"x\"*2)"
      ],
      "execution_count": null,
      "outputs": [
        {
          "output_type": "stream",
          "text": [
            "xxxxxxx\n",
            "xx\n",
            "xxxx\n",
            "xx\n",
            "xx\n"
          ],
          "name": "stdout"
        }
      ]
    },
    {
      "cell_type": "code",
      "metadata": {
        "id": "KqI_D9Ivh1Rf"
      },
      "source": [
        ""
      ],
      "execution_count": null,
      "outputs": []
    },
    {
      "cell_type": "code",
      "metadata": {
        "id": "_Ydsp2Sth1Wn"
      },
      "source": [
        ""
      ],
      "execution_count": null,
      "outputs": []
    },
    {
      "cell_type": "markdown",
      "metadata": {
        "id": "aZ1GgZFljXFF"
      },
      "source": [
        "# Variables"
      ]
    },
    {
      "cell_type": "code",
      "metadata": {
        "id": "wjmuBKqjh1ZA"
      },
      "source": [
        "age = 25\n",
        "price2 = 15.2\n",
        "name = 'Jack'\n",
        "is_Male = True"
      ],
      "execution_count": null,
      "outputs": []
    },
    {
      "cell_type": "markdown",
      "metadata": {
        "id": "NOHON5kmjckc"
      },
      "source": [
        "Not Allowed"
      ]
    },
    {
      "cell_type": "code",
      "metadata": {
        "id": "edHw1KU0jdTN"
      },
      "source": [
        "x: = 1.0\n",
        "1X = ''\n",
        "for = 1\n",
        "x-y = 1"
      ],
      "execution_count": null,
      "outputs": []
    },
    {
      "cell_type": "code",
      "metadata": {
        "id": "dfQstrYzjneE"
      },
      "source": [
        ""
      ],
      "execution_count": null,
      "outputs": []
    },
    {
      "cell_type": "markdown",
      "metadata": {
        "id": "HEZbqyJCiRd9"
      },
      "source": [
        "* Create a variable named **animal** and assign the value **giraffe** to it.\n",
        "\n",
        "* Display the sum of 5 + 10, using two variables: x and y.\n",
        "\n",
        "* 2my-first_name = \"John\""
      ]
    },
    {
      "cell_type": "markdown",
      "metadata": {
        "id": "sEUvyxjc7bNk"
      },
      "source": [
        "### Getting inputs"
      ]
    },
    {
      "cell_type": "code",
      "metadata": {
        "id": "Y0Q1egcz7bNk"
      },
      "source": [
        ""
      ],
      "execution_count": null,
      "outputs": []
    },
    {
      "cell_type": "code",
      "metadata": {
        "id": "BsLq4LJ37bNk"
      },
      "source": [
        ""
      ],
      "execution_count": null,
      "outputs": []
    },
    {
      "cell_type": "code",
      "metadata": {
        "id": "xLbW03lG7bNl"
      },
      "source": [
        "name = input('Enter your name: ')\n",
        "print('Hello '+name+'!')"
      ],
      "execution_count": null,
      "outputs": []
    },
    {
      "cell_type": "markdown",
      "metadata": {
        "id": "ez5qNUx87bNl"
      },
      "source": [
        "Ask person's name, then city and print for example **\"Aram is from Ashtarak\"**"
      ]
    },
    {
      "cell_type": "code",
      "metadata": {
        "id": "O_qh4Zdi7bNl"
      },
      "source": [
        ""
      ],
      "execution_count": null,
      "outputs": []
    },
    {
      "cell_type": "code",
      "metadata": {
        "id": "Y394amIm7bNl"
      },
      "source": [
        ""
      ],
      "execution_count": null,
      "outputs": []
    },
    {
      "cell_type": "code",
      "metadata": {
        "id": "YBvcyPdg7bNl"
      },
      "source": [
        ""
      ],
      "execution_count": null,
      "outputs": []
    },
    {
      "cell_type": "code",
      "metadata": {
        "id": "LgQcWcw27bNl"
      },
      "source": [
        ""
      ],
      "execution_count": null,
      "outputs": []
    },
    {
      "cell_type": "code",
      "metadata": {
        "id": "nouNv7uB7bNl"
      },
      "source": [
        ""
      ],
      "execution_count": null,
      "outputs": []
    },
    {
      "cell_type": "code",
      "metadata": {
        "id": "mKmvuviZ7bNm",
        "outputId": "ea899fd2-7b89-489b-8348-ea545e9e1bf3"
      },
      "source": [
        "name = input('Enter your name: ')\n",
        "city = input('Enter your city: ')\n",
        "print(f\"{name}, is from {city}\")"
      ],
      "execution_count": null,
      "outputs": [
        {
          "output_type": "stream",
          "text": [
            "Enter your name: Karen\n",
            "Enter your city: Goris\n",
            "Karen, you are from Goris\n"
          ],
          "name": "stdout"
        }
      ]
    },
    {
      "cell_type": "markdown",
      "metadata": {
        "id": "Y--VuPdE7bNm"
      },
      "source": [
        "Building a Basic Calculator"
      ]
    },
    {
      "cell_type": "code",
      "metadata": {
        "id": "B1rDUa5d7bNm"
      },
      "source": [
        ""
      ],
      "execution_count": null,
      "outputs": []
    },
    {
      "cell_type": "code",
      "metadata": {
        "id": "1RHE-uzK7bNm"
      },
      "source": [
        "num1 = input('Enter a number: ')\n",
        "num2 = input('Enter another number: ')\n",
        "result = num1 + num2\n",
        "print(result)"
      ],
      "execution_count": null,
      "outputs": []
    },
    {
      "cell_type": "code",
      "metadata": {
        "id": "JQIebGPz7bNm"
      },
      "source": [
        ""
      ],
      "execution_count": null,
      "outputs": []
    },
    {
      "cell_type": "code",
      "metadata": {
        "id": "40hNdoZi7bNm"
      },
      "source": [
        ""
      ],
      "execution_count": null,
      "outputs": []
    },
    {
      "cell_type": "code",
      "metadata": {
        "id": "syGS9W337bNm",
        "outputId": "a4bd53d8-fdfe-48e2-93ac-20bb2477ee5d"
      },
      "source": [
        "print('num1 is a',type(num1))\n",
        "print('num2 is a',type(num2))"
      ],
      "execution_count": null,
      "outputs": [
        {
          "output_type": "stream",
          "text": [
            "num1 is a <class 'str'>\n",
            "num2 is a <class 'str'>\n"
          ],
          "name": "stdout"
        }
      ]
    },
    {
      "cell_type": "code",
      "metadata": {
        "id": "kXYESTC67bNn"
      },
      "source": [
        ""
      ],
      "execution_count": null,
      "outputs": []
    },
    {
      "cell_type": "code",
      "metadata": {
        "id": "CJQ8bipZ7bNn"
      },
      "source": [
        ""
      ],
      "execution_count": null,
      "outputs": []
    },
    {
      "cell_type": "code",
      "metadata": {
        "id": "h4NMYLuY7bNn"
      },
      "source": [
        "num1 = input('Enter a number: ')\n",
        "num2 = input('Enter another number: ')\n",
        "result = int(num1) + int(num2)\n",
        "print(result)"
      ],
      "execution_count": null,
      "outputs": []
    },
    {
      "cell_type": "code",
      "metadata": {
        "id": "0_m5soXl7bNn"
      },
      "source": [
        ""
      ],
      "execution_count": null,
      "outputs": []
    },
    {
      "cell_type": "code",
      "metadata": {
        "id": "2pkOZMNj7bNn"
      },
      "source": [
        "num1 = input('Enter a number: ')\n",
        "num2 = input('Enter another number: ')\n",
        "result = float(num1) + float(num2)\n",
        "print(result)"
      ],
      "execution_count": null,
      "outputs": []
    },
    {
      "cell_type": "code",
      "metadata": {
        "id": "P1QbITth7bNn"
      },
      "source": [
        ""
      ],
      "execution_count": null,
      "outputs": []
    },
    {
      "cell_type": "markdown",
      "metadata": {
        "id": "VpVbFN5e7bNn"
      },
      "source": [
        "Mad Libs Game"
      ]
    },
    {
      "cell_type": "markdown",
      "metadata": {
        "id": "RCFy4g5w7bNo"
      },
      "source": [
        "https://www.squiglysplayhouse.com/WritingCorner/StoryBuilder/ItsEaster.html"
      ]
    },
    {
      "cell_type": "code",
      "metadata": {
        "id": "hWY9cqOb7bNo"
      },
      "source": [
        ""
      ],
      "execution_count": null,
      "outputs": []
    },
    {
      "cell_type": "code",
      "metadata": {
        "id": "tASoLP_d7bNo"
      },
      "source": [
        ""
      ],
      "execution_count": null,
      "outputs": []
    },
    {
      "cell_type": "code",
      "metadata": {
        "id": "3l8_5rtv7bNo",
        "outputId": "f0a8e220-f379-4231-9528-fc3d31fd6be6"
      },
      "source": [
        "name          = input(\"A boy's name: \")\n",
        "member        = input(\"A family member: \")\n",
        "candy_company = input(\"Your favorite candy company: \")\n",
        "candy_type    = input(\"Your favorite candy type: \")\n",
        "text          = f\"\"\"\n",
        "One day a little boy named {name} woke up and his {member} yelled, \"It's Easter!\" \n",
        "They went to check if the Easter Bunny left something for him, and he did. \n",
        "He left a chocolate Easter bunny candy,twelve Easter eggs filled \n",
        "with {candy_company} {candy_type}, and a jump rope, and a lot of other toys.\n",
        "\"\"\"\n",
        "print(text)"
      ],
      "execution_count": null,
      "outputs": [
        {
          "output_type": "stream",
          "text": [
            "A boy's name: Arsen\n",
            "A family member: mother\n",
            "Your favorite candy company: Linds\n",
            "Your favorite candy type: chupa\n",
            "\n",
            "One day a little boy named Arsen woke up and his mother yelled, \"It's Easter!\" \n",
            "They went to check if the Easter Bunny left something for him, and he did. \n",
            "He left a chocolate Easter bunny candy, \n",
            "twelve Easter eggs filled with Linds chupa, and a jump rope, and a lot of other toys.\n",
            "\n"
          ],
          "name": "stdout"
        }
      ]
    },
    {
      "cell_type": "markdown",
      "metadata": {
        "id": "lRa1OVLJ7bNo"
      },
      "source": [
        "# Lists"
      ]
    },
    {
      "cell_type": "code",
      "metadata": {
        "id": "WeE6Ky7_7bNo"
      },
      "source": [
        ""
      ],
      "execution_count": null,
      "outputs": []
    },
    {
      "cell_type": "code",
      "metadata": {
        "id": "6ZqGNcur7bNo"
      },
      "source": [
        "print(list((55,66)))"
      ],
      "execution_count": null,
      "outputs": []
    },
    {
      "cell_type": "code",
      "metadata": {
        "id": "J_8T8Btq7bNp"
      },
      "source": [
        ""
      ],
      "execution_count": null,
      "outputs": []
    },
    {
      "cell_type": "code",
      "metadata": {
        "id": "P7sVbmYd7bNp",
        "outputId": "835756ce-8db5-4b7b-d13a-93de7e953480"
      },
      "source": [
        "names = ['Armen','Arsen','Ani','Karen']\n",
        "print(names)"
      ],
      "execution_count": null,
      "outputs": [
        {
          "output_type": "stream",
          "text": [
            "['Armen', 'Arsen', 'Ani', 'Karen']\n"
          ],
          "name": "stdout"
        }
      ]
    },
    {
      "cell_type": "code",
      "metadata": {
        "id": "FFMeU-Ks7bNp"
      },
      "source": [
        ""
      ],
      "execution_count": null,
      "outputs": []
    },
    {
      "cell_type": "code",
      "metadata": {
        "colab": {
          "base_uri": "https://localhost:8080/"
        },
        "id": "iVp_tCJI7bNp",
        "outputId": "6e0c9967-f328-4c75-ef99-51d02d6aa892"
      },
      "source": [
        "mix = [\"Yerevan\",67,False]\n",
        "print(mix)"
      ],
      "execution_count": null,
      "outputs": [
        {
          "output_type": "stream",
          "text": [
            "['Yerevan', 67, False]\n"
          ],
          "name": "stdout"
        }
      ]
    },
    {
      "cell_type": "code",
      "metadata": {
        "id": "xKIXDtj67bNp"
      },
      "source": [
        ""
      ],
      "execution_count": null,
      "outputs": []
    },
    {
      "cell_type": "code",
      "metadata": {
        "id": "YDfkKyOP7bNp",
        "outputId": "4cfef5a8-758f-4867-f3ca-e17d7048ac4c"
      },
      "source": [
        "print(type(names))"
      ],
      "execution_count": null,
      "outputs": [
        {
          "output_type": "stream",
          "text": [
            "<class 'list'>\n"
          ],
          "name": "stdout"
        }
      ]
    },
    {
      "cell_type": "code",
      "metadata": {
        "id": "IuVWu9gr7bNp"
      },
      "source": [
        ""
      ],
      "execution_count": null,
      "outputs": []
    },
    {
      "cell_type": "code",
      "metadata": {
        "id": "XoS8QRMJ7bNq",
        "outputId": "de499686-47e9-409b-c1df-51514c7baac3"
      },
      "source": [
        "print(len(names))"
      ],
      "execution_count": null,
      "outputs": [
        {
          "output_type": "stream",
          "text": [
            "4\n"
          ],
          "name": "stdout"
        }
      ]
    },
    {
      "cell_type": "code",
      "metadata": {
        "id": "ncskVJPn7bNq"
      },
      "source": [
        ""
      ],
      "execution_count": null,
      "outputs": []
    },
    {
      "cell_type": "markdown",
      "metadata": {
        "id": "JLo0hiQi7bNq"
      },
      "source": [
        "Access elements"
      ]
    },
    {
      "cell_type": "code",
      "metadata": {
        "id": "z1AOi2Pj7bNq",
        "outputId": "ceef64be-4881-4c48-883c-48c4fe43f6b9"
      },
      "source": [
        "print(names[0])"
      ],
      "execution_count": null,
      "outputs": [
        {
          "output_type": "stream",
          "text": [
            "Armen\n"
          ],
          "name": "stdout"
        }
      ]
    },
    {
      "cell_type": "code",
      "metadata": {
        "id": "koQudczL7bNq"
      },
      "source": [
        ""
      ],
      "execution_count": null,
      "outputs": []
    },
    {
      "cell_type": "code",
      "metadata": {
        "id": "3mbamf0a7bNq"
      },
      "source": [
        ""
      ],
      "execution_count": null,
      "outputs": []
    },
    {
      "cell_type": "code",
      "metadata": {
        "id": "pjpUJINK7bNq",
        "outputId": "ba984e38-4b1c-4700-c08f-c98e8ae43c30"
      },
      "source": [
        "print(names[2:])"
      ],
      "execution_count": null,
      "outputs": [
        {
          "output_type": "stream",
          "text": [
            "['Ani', 'Karen']\n"
          ],
          "name": "stdout"
        }
      ]
    },
    {
      "cell_type": "code",
      "metadata": {
        "id": "vgpyEN0U7bNr"
      },
      "source": [
        ""
      ],
      "execution_count": null,
      "outputs": []
    },
    {
      "cell_type": "code",
      "metadata": {
        "id": "855S-cy_7bNr",
        "outputId": "d8e04573-f1d6-438b-9947-3ec6c379bc8b"
      },
      "source": [
        "names[0] = 'Robert'\n",
        "print(names)"
      ],
      "execution_count": null,
      "outputs": [
        {
          "output_type": "stream",
          "text": [
            "['Robert', 'Arsen', 'Ani', 'Karen']\n"
          ],
          "name": "stdout"
        }
      ]
    },
    {
      "cell_type": "code",
      "metadata": {
        "id": "yjR4Ck_X7bNr"
      },
      "source": [
        ""
      ],
      "execution_count": null,
      "outputs": []
    },
    {
      "cell_type": "code",
      "metadata": {
        "id": "RA5yq5Py7bNr",
        "outputId": "0ce74561-cac2-4244-9677-63a2aa16cab7"
      },
      "source": [
        "names = ['Armen','Arsen','Ani','Karen','Tigran']\n",
        "names[1:3] = [\"Levon\"]\n",
        "print(names)"
      ],
      "execution_count": null,
      "outputs": [
        {
          "output_type": "stream",
          "text": [
            "['Armen', 'Levon', 'Karen', 'Tigran']\n"
          ],
          "name": "stdout"
        }
      ]
    },
    {
      "cell_type": "markdown",
      "metadata": {
        "id": "SeZXtKUS7bNr"
      },
      "source": [
        "### List functions"
      ]
    },
    {
      "cell_type": "markdown",
      "metadata": {
        "id": "nh9c0sac7bNr"
      },
      "source": [
        "Join"
      ]
    },
    {
      "cell_type": "code",
      "metadata": {
        "id": "li01Goj27bNs",
        "outputId": "7f8eb0e1-8868-4f59-ac7b-4bd05bc0a41f"
      },
      "source": [
        "girls = ['Ani','Mery','Lusine','Aida']\n",
        "boys = ['Tigran','Hayk','Gevorg','Levon']\n",
        "girls.extend(boys)\n",
        "print(girls)"
      ],
      "execution_count": null,
      "outputs": [
        {
          "output_type": "stream",
          "text": [
            "['Ani', 'Mery', 'Lusine', 'Aida', 'Tigran', 'Hayk', 'Gevorg', 'Levon']\n"
          ],
          "name": "stdout"
        }
      ]
    },
    {
      "cell_type": "code",
      "metadata": {
        "id": "yS7PAxoP7bNs"
      },
      "source": [
        ""
      ],
      "execution_count": null,
      "outputs": []
    },
    {
      "cell_type": "markdown",
      "metadata": {
        "id": "APCcCB4V7bNs"
      },
      "source": [
        "Add"
      ]
    },
    {
      "cell_type": "code",
      "metadata": {
        "id": "etUMUldb7bNs",
        "outputId": "8b5590c3-846c-4859-a4ab-dc36142d5c6f"
      },
      "source": [
        "girls = ['Ani','Mery','Lusine','Aida']\n",
        "girls.append('Meline')\n",
        "print(girls)"
      ],
      "execution_count": null,
      "outputs": [
        {
          "output_type": "stream",
          "text": [
            "['Ani', 'Mery', 'Lusine', 'Aida', 'Meline']\n"
          ],
          "name": "stdout"
        }
      ]
    },
    {
      "cell_type": "code",
      "metadata": {
        "id": "l6valz1Y7bNs"
      },
      "source": [
        ""
      ],
      "execution_count": null,
      "outputs": []
    },
    {
      "cell_type": "code",
      "metadata": {
        "id": "ctnhJ8347bNs",
        "outputId": "ec354def-f997-4076-e7c9-e27ec2d64eda"
      },
      "source": [
        "girls = ['Ani','Mary','Lusine','Aida']\n",
        "girls.insert(2,'Meline')\n",
        "print(girls)"
      ],
      "execution_count": null,
      "outputs": [
        {
          "output_type": "stream",
          "text": [
            "['Ani', 'Mary', 'Meline', 'Lusine', 'Aida']\n"
          ],
          "name": "stdout"
        }
      ]
    },
    {
      "cell_type": "markdown",
      "metadata": {
        "id": "x7wSPS-Q7bNt"
      },
      "source": [
        "Remove"
      ]
    },
    {
      "cell_type": "code",
      "metadata": {
        "scrolled": true,
        "id": "prpKdysL7bNt",
        "outputId": "da01133c-f361-4b02-c222-6c69c8d56e29"
      },
      "source": [
        "girls.remove('Mary')\n",
        "print(girls)"
      ],
      "execution_count": null,
      "outputs": [
        {
          "output_type": "stream",
          "text": [
            "['Ani', 'Meline', 'Lusine', 'Aida']\n"
          ],
          "name": "stdout"
        }
      ]
    },
    {
      "cell_type": "code",
      "metadata": {
        "id": "JSyW3uyG7bNt"
      },
      "source": [
        ""
      ],
      "execution_count": null,
      "outputs": []
    },
    {
      "cell_type": "code",
      "metadata": {
        "id": "Ov-rNEs_7bNt",
        "outputId": "0ec4b21b-16d0-4e7c-9214-00f0ff009a0c"
      },
      "source": [
        "girls.clear()\n",
        "print(girls)"
      ],
      "execution_count": null,
      "outputs": [
        {
          "output_type": "stream",
          "text": [
            "[]\n"
          ],
          "name": "stdout"
        }
      ]
    },
    {
      "cell_type": "code",
      "metadata": {
        "id": "0oMiRJmC7bNt"
      },
      "source": [
        ""
      ],
      "execution_count": null,
      "outputs": []
    },
    {
      "cell_type": "code",
      "metadata": {
        "id": "3WBsMuhh7bNt",
        "outputId": "5126a518-c45a-4257-a005-d624af7aa99f"
      },
      "source": [
        "boys = ['Tigran','Hayk','Gevorg','Levon']\n",
        "boys.pop()\n",
        "print(boys)"
      ],
      "execution_count": null,
      "outputs": [
        {
          "output_type": "stream",
          "text": [
            "['Tigran', 'Hayk', 'Gevorg']\n"
          ],
          "name": "stdout"
        }
      ]
    },
    {
      "cell_type": "code",
      "metadata": {
        "id": "2R78WuLD--EH"
      },
      "source": [
        ""
      ],
      "execution_count": null,
      "outputs": []
    },
    {
      "cell_type": "code",
      "metadata": {
        "id": "865aau3g7bNu",
        "outputId": "e4d8d576-066c-40a2-9b2f-1d49ca0bbd70"
      },
      "source": [
        "boys = ['Tigran','Hayk','Gevorg','Levon']\n",
        "del boys\n",
        "print(boys)"
      ],
      "execution_count": null,
      "outputs": [
        {
          "output_type": "error",
          "ename": "NameError",
          "evalue": "name 'boys' is not defined",
          "traceback": [
            "\u001b[1;31m---------------------------------------------------------------------------\u001b[0m",
            "\u001b[1;31mNameError\u001b[0m                                 Traceback (most recent call last)",
            "\u001b[1;32m<ipython-input-225-35464188feb3>\u001b[0m in \u001b[0;36m<module>\u001b[1;34m\u001b[0m\n\u001b[0;32m      1\u001b[0m \u001b[0mboys\u001b[0m \u001b[1;33m=\u001b[0m \u001b[1;33m[\u001b[0m\u001b[1;34m'Tigran'\u001b[0m\u001b[1;33m,\u001b[0m\u001b[1;34m'Hayk'\u001b[0m\u001b[1;33m,\u001b[0m\u001b[1;34m'Gevorg'\u001b[0m\u001b[1;33m,\u001b[0m\u001b[1;34m'Levon'\u001b[0m\u001b[1;33m]\u001b[0m\u001b[1;33m\u001b[0m\u001b[1;33m\u001b[0m\u001b[0m\n\u001b[0;32m      2\u001b[0m \u001b[1;32mdel\u001b[0m \u001b[0mboys\u001b[0m\u001b[1;33m\u001b[0m\u001b[1;33m\u001b[0m\u001b[0m\n\u001b[1;32m----> 3\u001b[1;33m \u001b[0mprint\u001b[0m\u001b[1;33m(\u001b[0m\u001b[0mboys\u001b[0m\u001b[1;33m)\u001b[0m\u001b[1;33m\u001b[0m\u001b[1;33m\u001b[0m\u001b[0m\n\u001b[0m",
            "\u001b[1;31mNameError\u001b[0m: name 'boys' is not defined"
          ]
        }
      ]
    },
    {
      "cell_type": "code",
      "metadata": {
        "id": "NJPwoAb77bNu"
      },
      "source": [
        ""
      ],
      "execution_count": null,
      "outputs": []
    },
    {
      "cell_type": "code",
      "metadata": {
        "id": "BFr9zpVM7bNu"
      },
      "source": [
        ""
      ],
      "execution_count": null,
      "outputs": []
    },
    {
      "cell_type": "code",
      "metadata": {
        "id": "qcPY9IcP7bNu"
      },
      "source": [
        ""
      ],
      "execution_count": null,
      "outputs": []
    },
    {
      "cell_type": "markdown",
      "metadata": {
        "id": "p4VMUhqr7bNu"
      },
      "source": [
        "Search"
      ]
    },
    {
      "cell_type": "code",
      "metadata": {
        "id": "TIMuOlZO7bNu",
        "outputId": "93f39062-ba8c-479a-c497-f27a8cdc552a"
      },
      "source": [
        "print(boys.index('Hayk'))"
      ],
      "execution_count": null,
      "outputs": [
        {
          "output_type": "stream",
          "text": [
            "1\n"
          ],
          "name": "stdout"
        }
      ]
    },
    {
      "cell_type": "code",
      "metadata": {
        "id": "8JcvMLgj7bNv",
        "outputId": "77cfc30e-91a6-422c-abc9-c9c74f912996"
      },
      "source": [
        "print(boys.index('Levon'))"
      ],
      "execution_count": null,
      "outputs": [
        {
          "output_type": "error",
          "ename": "ValueError",
          "evalue": "'Levon' is not in list",
          "traceback": [
            "\u001b[1;31m---------------------------------------------------------------------------\u001b[0m",
            "\u001b[1;31mValueError\u001b[0m                                Traceback (most recent call last)",
            "\u001b[1;32m<ipython-input-72-377d9fd1d6a9>\u001b[0m in \u001b[0;36m<module>\u001b[1;34m\u001b[0m\n\u001b[1;32m----> 1\u001b[1;33m \u001b[0mprint\u001b[0m\u001b[1;33m(\u001b[0m\u001b[0mboys\u001b[0m\u001b[1;33m.\u001b[0m\u001b[0mindex\u001b[0m\u001b[1;33m(\u001b[0m\u001b[1;34m'Levon'\u001b[0m\u001b[1;33m)\u001b[0m\u001b[1;33m)\u001b[0m\u001b[1;33m\u001b[0m\u001b[1;33m\u001b[0m\u001b[0m\n\u001b[0m",
            "\u001b[1;31mValueError\u001b[0m: 'Levon' is not in list"
          ]
        }
      ]
    },
    {
      "cell_type": "code",
      "metadata": {
        "id": "m8OaxYHs7bNv"
      },
      "source": [
        ""
      ],
      "execution_count": null,
      "outputs": []
    },
    {
      "cell_type": "markdown",
      "metadata": {
        "id": "rQKCcs7q7bNv"
      },
      "source": [
        "Count"
      ]
    },
    {
      "cell_type": "code",
      "metadata": {
        "id": "aPam_H0a7bNv",
        "outputId": "2d16ce75-d522-4abf-a342-2c5e9ecb4b5d"
      },
      "source": [
        "boys = ['Tigran','Hayk','Gevorg','Hayk']\n",
        "print(boys.count('Hayk'))"
      ],
      "execution_count": null,
      "outputs": [
        {
          "output_type": "stream",
          "text": [
            "2\n"
          ],
          "name": "stdout"
        }
      ]
    },
    {
      "cell_type": "code",
      "metadata": {
        "id": "gfq2XPuL7bNv"
      },
      "source": [
        ""
      ],
      "execution_count": null,
      "outputs": []
    },
    {
      "cell_type": "markdown",
      "metadata": {
        "id": "pUnEj5WC7bNv"
      },
      "source": [
        "Sorting"
      ]
    },
    {
      "cell_type": "code",
      "metadata": {
        "id": "VmzUOMJ_7bNv",
        "outputId": "c0b249a8-7551-4f86-f6db-61c95113b117"
      },
      "source": [
        "boys.sort()\n",
        "print(boys)"
      ],
      "execution_count": null,
      "outputs": [
        {
          "output_type": "stream",
          "text": [
            "['Gevorg', 'Hayk', 'Hayk', 'Tigran']\n"
          ],
          "name": "stdout"
        }
      ]
    },
    {
      "cell_type": "code",
      "metadata": {
        "id": "dgEDVsUC7bNw",
        "outputId": "9059d5d3-89d5-4511-88d7-7bdd73798954"
      },
      "source": [
        "boys.sort(reverse = True)\n",
        "print(boys)"
      ],
      "execution_count": null,
      "outputs": [
        {
          "output_type": "stream",
          "text": [
            "['Tigran', 'Hayk', 'Hayk', 'Gevorg']\n"
          ],
          "name": "stdout"
        }
      ]
    },
    {
      "cell_type": "code",
      "metadata": {
        "id": "fyH2bR1I7bNw"
      },
      "source": [
        ""
      ],
      "execution_count": null,
      "outputs": []
    },
    {
      "cell_type": "code",
      "metadata": {
        "id": "HgbHSk2h7bNw"
      },
      "source": [
        ""
      ],
      "execution_count": null,
      "outputs": []
    },
    {
      "cell_type": "markdown",
      "metadata": {
        "id": "4DqKTQ-x7bNw"
      },
      "source": [
        "Reverse"
      ]
    },
    {
      "cell_type": "code",
      "metadata": {
        "id": "4MSyb7yL7bNw",
        "outputId": "03d776c4-d4af-4ccf-d052-bd142a606ff6"
      },
      "source": [
        "boys = ['Tigran','Hayk','Gevorg','Hayk']\n",
        "boys.reverse()\n",
        "print(boys)"
      ],
      "execution_count": null,
      "outputs": [
        {
          "output_type": "stream",
          "text": [
            "['Hayk', 'Gevorg', 'Hayk', 'Tigran']\n"
          ],
          "name": "stdout"
        }
      ]
    },
    {
      "cell_type": "code",
      "metadata": {
        "id": "PdgOOI8L7bNw"
      },
      "source": [
        ""
      ],
      "execution_count": null,
      "outputs": []
    },
    {
      "cell_type": "markdown",
      "metadata": {
        "id": "zAy3Kf4h7bNx"
      },
      "source": [
        "Copy"
      ]
    },
    {
      "cell_type": "code",
      "metadata": {
        "id": "YdyLE1N07bNx",
        "outputId": "5a3baad8-47a1-49a5-f1ec-5ce25920386f"
      },
      "source": [
        "boys2 = boys.copy()\n",
        "print(boys2)"
      ],
      "execution_count": null,
      "outputs": [
        {
          "output_type": "stream",
          "text": [
            "['Hayk', 'Gevorg', 'Hayk', 'Tigran']\n"
          ],
          "name": "stdout"
        }
      ]
    },
    {
      "cell_type": "code",
      "metadata": {
        "id": "xYFskd4x7bNx"
      },
      "source": [
        ""
      ],
      "execution_count": null,
      "outputs": []
    },
    {
      "cell_type": "code",
      "metadata": {
        "id": "FZK_IGrh7bNx",
        "outputId": "75233355-a679-40bf-c8fc-35ef6e9a7fd9"
      },
      "source": [
        "[boys,girls]"
      ],
      "execution_count": null,
      "outputs": [
        {
          "output_type": "execute_result",
          "data": {
            "text/plain": [
              "[['Hayk', 'Gevorg', 'Hayk', 'Tigran'],\n",
              " ['Ani', 'Mary', 'Meline', 'Lusine', 'Aida']]"
            ]
          },
          "metadata": {
            "tags": []
          },
          "execution_count": 73
        }
      ]
    },
    {
      "cell_type": "markdown",
      "metadata": {
        "id": "nE2NgiPs_8ra"
      },
      "source": [
        "fruits = [\"apple\", \"banana\", \"cherry\", \"melon\",\"orange\", \"mango\"]\n",
        "\n",
        "* Use the correct syntax to print the number of items in the list.\n",
        "\n",
        "* Print the last item in the list.\n",
        "\n",
        "* Add \"lemon\" in the fruits list.\n",
        "\n",
        "* Print the second, third and fourth items in the list."
      ]
    },
    {
      "cell_type": "code",
      "metadata": {
        "id": "UaN_D_NX_71Z"
      },
      "source": [
        ""
      ],
      "execution_count": null,
      "outputs": []
    },
    {
      "cell_type": "markdown",
      "metadata": {
        "id": "Zu2Uvtlo7bNx"
      },
      "source": [
        "### Tuples"
      ]
    },
    {
      "cell_type": "code",
      "metadata": {
        "id": "eyTIyHhmCeKZ"
      },
      "source": [
        ""
      ],
      "execution_count": null,
      "outputs": []
    },
    {
      "cell_type": "code",
      "metadata": {
        "id": "TqYBMEFm7bNx",
        "outputId": "c2622617-744b-4e73-a068-6a70a68a8468"
      },
      "source": [
        "print(tuple([1,51]))"
      ],
      "execution_count": null,
      "outputs": [
        {
          "output_type": "stream",
          "text": [
            "(1, 51)\n"
          ],
          "name": "stdout"
        }
      ]
    },
    {
      "cell_type": "code",
      "metadata": {
        "id": "AvR5M_wp7bNy",
        "outputId": "9922ad16-782f-4556-b396-7a88a54dae2d"
      },
      "source": [
        "coordinates = (4,5)\n",
        "print(coordinates)"
      ],
      "execution_count": null,
      "outputs": [
        {
          "output_type": "stream",
          "text": [
            "(4, 5)\n"
          ],
          "name": "stdout"
        }
      ]
    },
    {
      "cell_type": "code",
      "metadata": {
        "id": "Z_rZ5r_n7bNy"
      },
      "source": [
        ""
      ],
      "execution_count": null,
      "outputs": []
    },
    {
      "cell_type": "code",
      "metadata": {
        "id": "5tGUEBzC7bNy",
        "outputId": "8fdfffbc-3379-419c-97a9-1b1118e9d8ca"
      },
      "source": [
        "print(len(coordinates))"
      ],
      "execution_count": null,
      "outputs": [
        {
          "output_type": "stream",
          "text": [
            "2\n"
          ],
          "name": "stdout"
        }
      ]
    },
    {
      "cell_type": "code",
      "metadata": {
        "id": "1E17bkHr7bNy"
      },
      "source": [
        ""
      ],
      "execution_count": null,
      "outputs": []
    },
    {
      "cell_type": "code",
      "metadata": {
        "id": "HYbVttUZ7bNy",
        "outputId": "f82eedfb-65d5-4f33-f98d-4a26ed1a68a1"
      },
      "source": [
        "print(type(coordinates))"
      ],
      "execution_count": null,
      "outputs": [
        {
          "output_type": "stream",
          "text": [
            "<class 'tuple'>\n"
          ],
          "name": "stdout"
        }
      ]
    },
    {
      "cell_type": "code",
      "metadata": {
        "id": "pOGU4ETa7bNz"
      },
      "source": [
        ""
      ],
      "execution_count": null,
      "outputs": []
    },
    {
      "cell_type": "code",
      "metadata": {
        "id": "vNDNEySS7bNz",
        "outputId": "79158c02-8950-4144-8071-f6c2d2c532cd"
      },
      "source": [
        "print(coordinates[1])"
      ],
      "execution_count": null,
      "outputs": [
        {
          "output_type": "stream",
          "text": [
            "5\n"
          ],
          "name": "stdout"
        }
      ]
    },
    {
      "cell_type": "code",
      "metadata": {
        "id": "xdqGlOmD7bNz",
        "outputId": "365e2e30-43eb-49e9-a2bd-eca5b92d8d04"
      },
      "source": [
        "coordinates[1] = 5"
      ],
      "execution_count": null,
      "outputs": [
        {
          "output_type": "error",
          "ename": "TypeError",
          "evalue": "'tuple' object does not support item assignment",
          "traceback": [
            "\u001b[1;31m---------------------------------------------------------------------------\u001b[0m",
            "\u001b[1;31mTypeError\u001b[0m                                 Traceback (most recent call last)",
            "\u001b[1;32m<ipython-input-33-2e2d73ecaede>\u001b[0m in \u001b[0;36m<module>\u001b[1;34m\u001b[0m\n\u001b[1;32m----> 1\u001b[1;33m \u001b[0mcoordinates\u001b[0m\u001b[1;33m[\u001b[0m\u001b[1;36m1\u001b[0m\u001b[1;33m]\u001b[0m \u001b[1;33m=\u001b[0m \u001b[1;36m5\u001b[0m\u001b[1;33m\u001b[0m\u001b[1;33m\u001b[0m\u001b[0m\n\u001b[0m",
            "\u001b[1;31mTypeError\u001b[0m: 'tuple' object does not support item assignment"
          ]
        }
      ]
    },
    {
      "cell_type": "markdown",
      "metadata": {
        "id": "1YSVsU7P7bNz"
      },
      "source": [
        "List of tuples"
      ]
    },
    {
      "cell_type": "code",
      "metadata": {
        "id": "oxcZEk-t7bNz"
      },
      "source": [
        "coordinates_list = [(2,5),(5,8),(0,9)]"
      ],
      "execution_count": null,
      "outputs": []
    },
    {
      "cell_type": "code",
      "metadata": {
        "id": "p4HLvK4P7bNz",
        "outputId": "f5a7627c-1649-42b1-cb78-1487498ef197"
      },
      "source": [
        "coordinates_list[0][0]"
      ],
      "execution_count": null,
      "outputs": [
        {
          "output_type": "execute_result",
          "data": {
            "text/plain": [
              "1"
            ]
          },
          "metadata": {
            "tags": []
          },
          "execution_count": 38
        }
      ]
    },
    {
      "cell_type": "code",
      "metadata": {
        "id": "r4TKsfvx7bN0",
        "outputId": "0dca0621-b6e1-44ba-8e65-38c83555d757"
      },
      "source": [
        "coordinates_list[0][0] = 5"
      ],
      "execution_count": null,
      "outputs": [
        {
          "output_type": "error",
          "ename": "TypeError",
          "evalue": "'tuple' object does not support item assignment",
          "traceback": [
            "\u001b[1;31m---------------------------------------------------------------------------\u001b[0m",
            "\u001b[1;31mTypeError\u001b[0m                                 Traceback (most recent call last)",
            "\u001b[1;32m<ipython-input-39-279bb46ca0b4>\u001b[0m in \u001b[0;36m<module>\u001b[1;34m\u001b[0m\n\u001b[1;32m----> 1\u001b[1;33m \u001b[0mcoordinates_list\u001b[0m\u001b[1;33m[\u001b[0m\u001b[1;36m0\u001b[0m\u001b[1;33m]\u001b[0m\u001b[1;33m[\u001b[0m\u001b[1;36m0\u001b[0m\u001b[1;33m]\u001b[0m \u001b[1;33m=\u001b[0m \u001b[1;36m5\u001b[0m\u001b[1;33m\u001b[0m\u001b[1;33m\u001b[0m\u001b[0m\n\u001b[0m",
            "\u001b[1;31mTypeError\u001b[0m: 'tuple' object does not support item assignment"
          ]
        }
      ]
    },
    {
      "cell_type": "code",
      "metadata": {
        "id": "PHmZ_pLy7bN0"
      },
      "source": [
        "coordinates_list[0] = (1,2)"
      ],
      "execution_count": null,
      "outputs": []
    },
    {
      "cell_type": "code",
      "metadata": {
        "id": "Wp1s2Kqx7bN0",
        "outputId": "1a9d8cfc-c41b-4e8c-b544-d3b98eed5c80"
      },
      "source": [
        "print(coordinates_list)"
      ],
      "execution_count": null,
      "outputs": [
        {
          "output_type": "stream",
          "text": [
            "[(1, 2), (5, 8), (0, 9)]\n"
          ],
          "name": "stdout"
        }
      ]
    },
    {
      "cell_type": "code",
      "metadata": {
        "id": "K0Zwz1qC7bN0"
      },
      "source": [
        ""
      ],
      "execution_count": null,
      "outputs": []
    },
    {
      "cell_type": "code",
      "metadata": {
        "id": "6emp_hfM7bN0",
        "outputId": "baad8c53-2b0e-4c82-8ff8-730e4c4e399b"
      },
      "source": [
        "(boys,coordinates)"
      ],
      "execution_count": null,
      "outputs": [
        {
          "output_type": "execute_result",
          "data": {
            "text/plain": [
              "(['Hayk', 'Gevorg', 'Hayk', 'Tigran'], (4, 5))"
            ]
          },
          "metadata": {
            "tags": []
          },
          "execution_count": 68
        }
      ]
    },
    {
      "cell_type": "code",
      "metadata": {
        "id": "ATDnAfEV7bN1"
      },
      "source": [
        ""
      ],
      "execution_count": null,
      "outputs": []
    },
    {
      "cell_type": "markdown",
      "metadata": {
        "id": "zDAuSLfi7bN1"
      },
      "source": [
        "# Dictionary"
      ]
    },
    {
      "cell_type": "code",
      "metadata": {
        "id": "z7zBMkEb7bN1"
      },
      "source": [
        ""
      ],
      "execution_count": null,
      "outputs": []
    },
    {
      "cell_type": "code",
      "metadata": {
        "id": "YVERN08z7bN1"
      },
      "source": [
        "students_city = {\n",
        "    'Tom' : 'London',\n",
        "    'Igor' : 'Moscow',\n",
        "    'Elizabeth' : 'Liverpool'\n",
        "    }"
      ],
      "execution_count": null,
      "outputs": []
    },
    {
      "cell_type": "code",
      "metadata": {
        "id": "AFX1p6cF7bN2",
        "outputId": "04875fb2-ab85-40b8-f070-939fa194d44d"
      },
      "source": [
        "print(type(students_city))"
      ],
      "execution_count": null,
      "outputs": [
        {
          "output_type": "stream",
          "text": [
            "<class 'dict'>\n"
          ],
          "name": "stdout"
        }
      ]
    },
    {
      "cell_type": "code",
      "metadata": {
        "colab": {
          "base_uri": "https://localhost:8080/"
        },
        "id": "QPYWqOH77bN1",
        "outputId": "981d0ff0-9e84-448b-816e-f11fb0603cd8"
      },
      "source": [
        "print(students_city)"
      ],
      "execution_count": null,
      "outputs": [
        {
          "output_type": "stream",
          "text": [
            "{'Tom': 'London', 'Igor': 'Moscow', 'Elizabeth': 'Liverpool'}\n"
          ],
          "name": "stdout"
        }
      ]
    },
    {
      "cell_type": "code",
      "metadata": {
        "id": "1K10qIcN7bN1",
        "outputId": "b88f591c-2ec5-4d79-a846-c153fe914356"
      },
      "source": [
        "students_city.keys()"
      ],
      "execution_count": null,
      "outputs": [
        {
          "output_type": "execute_result",
          "data": {
            "text/plain": [
              "dict_keys(['Tom', 'Igor', 'Elizabeth'])"
            ]
          },
          "metadata": {
            "tags": []
          },
          "execution_count": 8
        }
      ]
    },
    {
      "cell_type": "code",
      "metadata": {
        "id": "kHi0UyQa7bN2",
        "outputId": "dbb2eced-bd39-4ac6-92ed-cb8d66d34043"
      },
      "source": [
        "students_city.values()"
      ],
      "execution_count": null,
      "outputs": [
        {
          "output_type": "execute_result",
          "data": {
            "text/plain": [
              "dict_values(['Berlin', 'Moscow', 'Liverpool', 'Yerevan', 'Yerevan'])"
            ]
          },
          "metadata": {
            "tags": []
          },
          "execution_count": 15
        }
      ]
    },
    {
      "cell_type": "code",
      "metadata": {
        "id": "QD_-K9ql7bN2",
        "outputId": "06098850-6761-4ba6-f693-7cadb44ec157"
      },
      "source": [
        "print(len(students_city))"
      ],
      "execution_count": null,
      "outputs": [
        {
          "output_type": "stream",
          "text": [
            "3\n"
          ],
          "name": "stdout"
        }
      ]
    },
    {
      "cell_type": "code",
      "metadata": {
        "id": "Ifm1KsnF7bN2"
      },
      "source": [
        "students_city1 = {'Tom' : 'London','Tom' : 'Moscow','Elizabeth' : 'Liverpool'}"
      ],
      "execution_count": null,
      "outputs": []
    },
    {
      "cell_type": "code",
      "metadata": {
        "id": "qcqWLReG7bN2",
        "outputId": "0c16d24b-3339-46e5-c2cb-bd38afdfb9e8"
      },
      "source": [
        "print(students_city1)"
      ],
      "execution_count": null,
      "outputs": [
        {
          "output_type": "stream",
          "text": [
            "{'Tom': 'Moscow', 'Elizabeth': 'Liverpool'}\n"
          ],
          "name": "stdout"
        }
      ]
    },
    {
      "cell_type": "code",
      "metadata": {
        "id": "qriWJj9O7bN2"
      },
      "source": [
        ""
      ],
      "execution_count": null,
      "outputs": []
    },
    {
      "cell_type": "code",
      "metadata": {
        "colab": {
          "base_uri": "https://localhost:8080/"
        },
        "id": "Vs2izKVQ7bN3",
        "outputId": "184fe583-81c1-40af-c22d-187457540141"
      },
      "source": [
        "print(students_city['Tom'])"
      ],
      "execution_count": null,
      "outputs": [
        {
          "output_type": "stream",
          "text": [
            "London\n"
          ],
          "name": "stdout"
        }
      ]
    },
    {
      "cell_type": "code",
      "metadata": {
        "id": "B_1Il4Xu7bN3",
        "outputId": "22336403-3528-4c9f-8eae-c0e1d1feb927"
      },
      "source": [
        "print(students_city.get('Robert','Yerevan'))"
      ],
      "execution_count": null,
      "outputs": [
        {
          "output_type": "stream",
          "text": [
            "Yerevan\n"
          ],
          "name": "stdout"
        }
      ]
    },
    {
      "cell_type": "code",
      "metadata": {
        "id": "xgNbXUXM7bN3"
      },
      "source": [
        "students_city[\"Robert\"] = \"Yerevan\""
      ],
      "execution_count": null,
      "outputs": []
    },
    {
      "cell_type": "code",
      "metadata": {
        "id": "RjuMaWWI7bN3",
        "outputId": "6057f3e1-f6cb-4e89-cccc-bef8e39f5842"
      },
      "source": [
        "print(students_city)"
      ],
      "execution_count": null,
      "outputs": [
        {
          "output_type": "stream",
          "text": [
            "{'Tom': 'Berlin', 'Igor': 'Moscow', 'Elizabeth': 'Liverpool', 'Gevorg': 'Yerevan'}\n"
          ],
          "name": "stdout"
        }
      ]
    },
    {
      "cell_type": "code",
      "metadata": {
        "id": "kSYHXW2C7bN3"
      },
      "source": [
        ""
      ],
      "execution_count": null,
      "outputs": []
    },
    {
      "cell_type": "code",
      "metadata": {
        "id": "TN04df577bN6"
      },
      "source": [
        "students_city.update({\"Tom\": 'Berlin'})"
      ],
      "execution_count": null,
      "outputs": []
    },
    {
      "cell_type": "code",
      "metadata": {
        "id": "8pLDu5357bN6",
        "outputId": "8c0d9a6d-7de2-4797-d75c-f53ce65a753e"
      },
      "source": [
        "print(students_city)"
      ],
      "execution_count": null,
      "outputs": [
        {
          "output_type": "stream",
          "text": [
            "{'Tom': 'Berlin', 'Igor': 'Moscow', 'Elizabeth': 'Liverpool'}\n"
          ],
          "name": "stdout"
        }
      ]
    },
    {
      "cell_type": "code",
      "metadata": {
        "id": "-cK6h3Pi7bN6"
      },
      "source": [
        ""
      ],
      "execution_count": null,
      "outputs": []
    },
    {
      "cell_type": "code",
      "metadata": {
        "id": "PLon5fIk7bN6"
      },
      "source": [
        "car = {\n",
        "  \"brand\": \"Ford\",\n",
        "  \"electric\": False,\n",
        "  \"year\": 1964,\n",
        "  \"colors\": [\"red\", \"white\", \"blue\"]\n",
        "}"
      ],
      "execution_count": null,
      "outputs": []
    },
    {
      "cell_type": "code",
      "metadata": {
        "id": "R1VmDXpf7bN6"
      },
      "source": [
        ""
      ],
      "execution_count": null,
      "outputs": []
    },
    {
      "cell_type": "markdown",
      "metadata": {
        "id": "i4Un69YH7bN7"
      },
      "source": [
        "Nested Dictionaries"
      ]
    },
    {
      "cell_type": "code",
      "metadata": {
        "id": "f5LT2d9s7bN7"
      },
      "source": [
        "family = {\n",
        "  \"child1\" : {\n",
        "    \"name\" : \"Erik\",\n",
        "    \"year\" : 2004\n",
        "  },\n",
        "  \"child2\" : {\n",
        "    \"name\" : \"Felix\",\n",
        "    \"year\" : 1997\n",
        "  },\n",
        "  \"child3\" : {\n",
        "    \"name\" : \"Lilit\",\n",
        "    \"year\" : 2011\n",
        "  }\n",
        "}"
      ],
      "execution_count": null,
      "outputs": []
    },
    {
      "cell_type": "code",
      "metadata": {
        "id": "n29Fv3YA7bN7",
        "outputId": "8052f755-abe6-4c45-88ff-16a62caaf2d1"
      },
      "source": [
        "family.keys()"
      ],
      "execution_count": null,
      "outputs": [
        {
          "output_type": "execute_result",
          "data": {
            "text/plain": [
              "dict_keys(['child1', 'child2', 'child3'])"
            ]
          },
          "metadata": {
            "tags": []
          },
          "execution_count": 23
        }
      ]
    },
    {
      "cell_type": "code",
      "metadata": {
        "id": "u-TuvYwn7bN7"
      },
      "source": [
        "child1 = {\n",
        "  \"name\" : \"Emil\",\n",
        "  \"year\" : 2004\n",
        "}\n",
        "child2 = {\n",
        "  \"name\" : \"Tobias\",\n",
        "  \"year\" : 2007\n",
        "}\n",
        "child3 = {\n",
        "  \"name\" : \"Linus\",\n",
        "  \"year\" : 2011\n",
        "}\n",
        "\n",
        "myfamily = {\n",
        "  \"child1\" : child1,\n",
        "  \"child2\" : child2,\n",
        "  \"child3\" : child3\n",
        "}"
      ],
      "execution_count": null,
      "outputs": []
    },
    {
      "cell_type": "code",
      "metadata": {
        "id": "yKRKGof77bN7",
        "outputId": "8cadd428-cc44-4ca1-b5ab-c41790665ce8"
      },
      "source": [
        "myfamily.keys()"
      ],
      "execution_count": null,
      "outputs": [
        {
          "output_type": "execute_result",
          "data": {
            "text/plain": [
              "dict_keys(['child1', 'child2', 'child3'])"
            ]
          },
          "metadata": {
            "tags": []
          },
          "execution_count": 21
        }
      ]
    },
    {
      "cell_type": "code",
      "metadata": {
        "id": "H7G3XXPj7bN7",
        "outputId": "98f9d9a1-3564-478d-8854-2a4b18dc0bc5"
      },
      "source": [
        "myfamily.values()"
      ],
      "execution_count": null,
      "outputs": [
        {
          "output_type": "execute_result",
          "data": {
            "text/plain": [
              "dict_values([{'name': 'Emil', 'year': 2004}, {'name': 'Tobias', 'year': 2007}, {'name': 'Linus', 'year': 2011}])"
            ]
          },
          "metadata": {
            "tags": []
          },
          "execution_count": 24
        }
      ]
    },
    {
      "cell_type": "markdown",
      "metadata": {
        "id": "_9llD_DRDboD"
      },
      "source": [
        "car =\t{\n",
        "  \"brand\": \"Ford\",\n",
        "  \"model\": \"Mustang\",\n",
        "  \"year\": 1964\n",
        "}\n",
        "\n",
        "*  Print the value of the \"model\" key of the car dictionary.\n",
        "\n",
        "* Change the \"year\" value from 1964 to 2020.\n",
        "\n",
        "* Add the key/value pair \"color\" : \"red\" to the car dictionary."
      ]
    },
    {
      "cell_type": "code",
      "metadata": {
        "id": "DZglnPK7DatV"
      },
      "source": [
        ""
      ],
      "execution_count": null,
      "outputs": []
    },
    {
      "cell_type": "code",
      "metadata": {
        "id": "Y0NyhIxXDa1S"
      },
      "source": [
        ""
      ],
      "execution_count": null,
      "outputs": []
    },
    {
      "cell_type": "markdown",
      "metadata": {
        "id": "Z1ivunMP7bN8"
      },
      "source": [
        "### Sets"
      ]
    },
    {
      "cell_type": "code",
      "metadata": {
        "id": "aUB-hmA_7bN8",
        "outputId": "bab09f89-2fee-466b-885b-5a6cfa1756ee"
      },
      "source": [
        "fruit_set = set((\"apple\", \"banana\", \"cherry\"))\n",
        "print(fruit_set)"
      ],
      "execution_count": null,
      "outputs": [
        {
          "output_type": "stream",
          "text": [
            "{'cherry', 'banana', 'apple'}\n"
          ],
          "name": "stdout"
        }
      ]
    },
    {
      "cell_type": "code",
      "metadata": {
        "id": "FiSmPkgt7bN8"
      },
      "source": [
        ""
      ],
      "execution_count": null,
      "outputs": []
    },
    {
      "cell_type": "code",
      "metadata": {
        "id": "XWz2ziLY7bN8",
        "outputId": "5064814c-058c-41cb-edcb-216f9c72159e"
      },
      "source": [
        "fruit_set1 = {\"apple\", \"banana\", \"cherry\"}\n",
        "print(fruit_set)"
      ],
      "execution_count": null,
      "outputs": [
        {
          "output_type": "stream",
          "text": [
            "{'cherry', 'banana', 'apple'}\n"
          ],
          "name": "stdout"
        }
      ]
    },
    {
      "cell_type": "code",
      "metadata": {
        "id": "H9ODO5127bN8"
      },
      "source": [
        ""
      ],
      "execution_count": null,
      "outputs": []
    },
    {
      "cell_type": "markdown",
      "metadata": {
        "id": "6zLQw23U7bN8"
      },
      "source": [
        "Double inputs"
      ]
    },
    {
      "cell_type": "code",
      "metadata": {
        "id": "fmCODaHi7bN9",
        "outputId": "c07faaf2-50bd-4ee8-e359-edb3a0371850"
      },
      "source": [
        "fruit_set1 = {\"apple\", \"banana\", \"cherry\", \"apple\"}\n",
        "\n",
        "print(fruit_set1)"
      ],
      "execution_count": null,
      "outputs": [
        {
          "output_type": "stream",
          "text": [
            "{'cherry', 'banana', 'apple'}\n"
          ],
          "name": "stdout"
        }
      ]
    },
    {
      "cell_type": "code",
      "metadata": {
        "id": "ubQ710tR7bN9"
      },
      "source": [
        ""
      ],
      "execution_count": null,
      "outputs": []
    },
    {
      "cell_type": "code",
      "metadata": {
        "id": "xbxDOBiA7bN9",
        "outputId": "4a7670eb-e393-4af3-9aee-774a46c741dd"
      },
      "source": [
        "fruit_set1 = {\"apple\", \"banana\", \"cherry\"}\n",
        "\n",
        "print(len(fruit_set1))"
      ],
      "execution_count": null,
      "outputs": [
        {
          "output_type": "stream",
          "text": [
            "3\n"
          ],
          "name": "stdout"
        }
      ]
    },
    {
      "cell_type": "code",
      "metadata": {
        "id": "7FDNKXwS7bN-"
      },
      "source": [
        "set1 = {\"apple\", \"banana\", \"cherry\"}\n",
        "set2 = {1, 5, 7, 9, 3}\n",
        "set3 = {True, False, False}\n",
        "set4 = {\"abc\", 34, True, 40, \"male\"}"
      ],
      "execution_count": null,
      "outputs": []
    },
    {
      "cell_type": "code",
      "metadata": {
        "id": "keiMwdI07bN-"
      },
      "source": [
        ""
      ],
      "execution_count": null,
      "outputs": []
    },
    {
      "cell_type": "code",
      "metadata": {
        "id": "7lUXJ7EN7bN-"
      },
      "source": [
        ""
      ],
      "execution_count": null,
      "outputs": []
    },
    {
      "cell_type": "code",
      "metadata": {
        "id": "hdr6Be2z7bN-",
        "outputId": "b5d0aac3-4f0b-4fb9-cbf6-0922bbf61ec3"
      },
      "source": [
        "print(type(set4))"
      ],
      "execution_count": null,
      "outputs": [
        {
          "output_type": "stream",
          "text": [
            "<class 'set'>\n"
          ],
          "name": "stdout"
        }
      ]
    },
    {
      "cell_type": "code",
      "metadata": {
        "id": "a4ytI9Kk7bN-"
      },
      "source": [
        ""
      ],
      "execution_count": null,
      "outputs": []
    },
    {
      "cell_type": "code",
      "metadata": {
        "id": "kBlTDGrQ7bN_",
        "outputId": "cb36d524-320e-49b9-8df3-ba40efb8261d"
      },
      "source": [
        "print(fruit_set1[0])"
      ],
      "execution_count": null,
      "outputs": [
        {
          "output_type": "error",
          "ename": "TypeError",
          "evalue": "'set' object is not subscriptable",
          "traceback": [
            "\u001b[1;31m---------------------------------------------------------------------------\u001b[0m",
            "\u001b[1;31mTypeError\u001b[0m                                 Traceback (most recent call last)",
            "\u001b[1;32m<ipython-input-196-846efee46cfe>\u001b[0m in \u001b[0;36m<module>\u001b[1;34m\u001b[0m\n\u001b[1;32m----> 1\u001b[1;33m \u001b[0mprint\u001b[0m\u001b[1;33m(\u001b[0m\u001b[0mfruit_set1\u001b[0m\u001b[1;33m[\u001b[0m\u001b[1;36m0\u001b[0m\u001b[1;33m]\u001b[0m\u001b[1;33m)\u001b[0m\u001b[1;33m\u001b[0m\u001b[1;33m\u001b[0m\u001b[0m\n\u001b[0m",
            "\u001b[1;31mTypeError\u001b[0m: 'set' object is not subscriptable"
          ]
        }
      ]
    },
    {
      "cell_type": "code",
      "metadata": {
        "id": "_jBOp37E7bN_"
      },
      "source": [
        ""
      ],
      "execution_count": null,
      "outputs": []
    },
    {
      "cell_type": "code",
      "metadata": {
        "id": "Ln7746dp7bN_",
        "outputId": "c09c0dfb-a659-4bf5-cc3a-393c2ec7eb8b"
      },
      "source": [
        "thisset = {\"apple\", \"banana\", \"cherry\"}\n",
        "\n",
        "thisset.add(\"orange\")\n",
        "\n",
        "print(thisset)"
      ],
      "execution_count": null,
      "outputs": [
        {
          "output_type": "stream",
          "text": [
            "{'orange', 'cherry', 'banana', 'apple'}\n"
          ],
          "name": "stdout"
        }
      ]
    },
    {
      "cell_type": "code",
      "metadata": {
        "id": "hWe_yL997bN_"
      },
      "source": [
        ""
      ],
      "execution_count": null,
      "outputs": []
    },
    {
      "cell_type": "code",
      "metadata": {
        "id": "h7vMaXWA7bN_",
        "outputId": "962d665f-b48a-4cc5-faeb-817425654b64"
      },
      "source": [
        "thisset = {\"apple\", \"banana\", \"cherry\"}\n",
        "tropical = {\"pineapple\", \"mango\", \"papaya\"}\n",
        "\n",
        "thisset.update(tropical)\n",
        "\n",
        "print(thisset)"
      ],
      "execution_count": null,
      "outputs": [
        {
          "output_type": "stream",
          "text": [
            "{'pineapple', 'cherry', 'banana', 'apple', 'mango', 'papaya'}\n"
          ],
          "name": "stdout"
        }
      ]
    },
    {
      "cell_type": "code",
      "metadata": {
        "id": "3LegJNwP7bN_"
      },
      "source": [
        ""
      ],
      "execution_count": null,
      "outputs": []
    },
    {
      "cell_type": "code",
      "metadata": {
        "id": "yHtIZPy57bOA",
        "outputId": "688f2ab7-4f08-41e2-b16e-e7ccc91abc5d"
      },
      "source": [
        "thisset = {\"apple\", \"banana\", \"cherry\"}\n",
        "mylist = [\"kiwi\", \"orange\"]\n",
        "\n",
        "thisset.update(mylist)\n",
        "\n",
        "print(thisset)"
      ],
      "execution_count": null,
      "outputs": [
        {
          "output_type": "stream",
          "text": [
            "{'kiwi', 'cherry', 'banana', 'apple', 'orange'}\n"
          ],
          "name": "stdout"
        }
      ]
    },
    {
      "cell_type": "code",
      "metadata": {
        "id": "iuJ9BoqC7bOA"
      },
      "source": [
        ""
      ],
      "execution_count": null,
      "outputs": []
    },
    {
      "cell_type": "code",
      "metadata": {
        "id": "y_sKjlma7bOA",
        "outputId": "139d6d7d-40af-4f18-888c-12eee58474de"
      },
      "source": [
        "thisset = {\"apple\", \"banana\", \"cherry\"}\n",
        "mylist = [\"kiwi\", \"orange\"]\n",
        "mylist.extend(thisset)\n",
        "print(mylist)"
      ],
      "execution_count": null,
      "outputs": [
        {
          "output_type": "stream",
          "text": [
            "['kiwi', 'orange', 'cherry', 'banana', 'apple']\n"
          ],
          "name": "stdout"
        }
      ]
    },
    {
      "cell_type": "code",
      "metadata": {
        "id": "VJPqSoXT7bOA"
      },
      "source": [
        ""
      ],
      "execution_count": null,
      "outputs": []
    },
    {
      "cell_type": "code",
      "metadata": {
        "id": "5YIHwrwY7bOA"
      },
      "source": [
        ""
      ],
      "execution_count": null,
      "outputs": []
    },
    {
      "cell_type": "markdown",
      "metadata": {
        "id": "-caRudWX7bOA"
      },
      "source": [
        "There are four collection data types in the Python programming language:\n",
        "\n",
        "* List is a collection which is ordered and changeable. Allows duplicate members.\n",
        "* Tuple is a collection which is ordered and unchangeable. Allows duplicate members.\n",
        "* Set is a collection which is unordered and unindexed. No duplicate members.\n",
        "* Dictionary is a collection which is unordered and changeable. No duplicate members."
      ]
    },
    {
      "cell_type": "markdown",
      "metadata": {
        "id": "Wq62yewx7bOB"
      },
      "source": [
        "### If statements"
      ]
    },
    {
      "cell_type": "code",
      "metadata": {
        "id": "BvvsDqJZ7bOB"
      },
      "source": [
        ""
      ],
      "execution_count": null,
      "outputs": []
    },
    {
      "cell_type": "code",
      "metadata": {
        "id": "R8dq6Yr17bOB",
        "outputId": "4818e15b-2096-4e06-8866-00b9efac443c"
      },
      "source": [
        "high_income = True\n",
        "\n",
        "if high_income:\n",
        "    print('He has a high_income')"
      ],
      "execution_count": null,
      "outputs": [
        {
          "output_type": "stream",
          "text": [
            "He has a high_income\n"
          ],
          "name": "stdout"
        }
      ]
    },
    {
      "cell_type": "code",
      "metadata": {
        "id": "ygfUPQYn7bOB"
      },
      "source": [
        ""
      ],
      "execution_count": null,
      "outputs": []
    },
    {
      "cell_type": "code",
      "metadata": {
        "id": "xrBt2Q4e7bOC",
        "outputId": "772a1ea5-0e08-42f2-8807-064a0f05fa55"
      },
      "source": [
        "high_income = False\n",
        "\n",
        "if high_income:\n",
        "    print('He has a high income')\n",
        "else:\n",
        "    print('He has not a high income')"
      ],
      "execution_count": null,
      "outputs": [
        {
          "output_type": "stream",
          "text": [
            "He has not a high_income\n"
          ],
          "name": "stdout"
        }
      ]
    },
    {
      "cell_type": "code",
      "metadata": {
        "id": "lrflugkJ7bOC"
      },
      "source": [
        ""
      ],
      "execution_count": null,
      "outputs": []
    },
    {
      "cell_type": "code",
      "metadata": {
        "id": "ihT6VO7E7bOC",
        "outputId": "71c463c9-2af0-4ff1-a2b9-3140602de673"
      },
      "source": [
        "high_income = False\n",
        "good_credit = True\n",
        "\n",
        "if high_income:\n",
        "    print('He has a high income')\n",
        "elif good_credit:\n",
        "    print('He has a good credit')\n",
        "else:\n",
        "    print('He has not a high income not a good credit')"
      ],
      "execution_count": null,
      "outputs": [
        {
          "output_type": "stream",
          "text": [
            "He has a good credit\n"
          ],
          "name": "stdout"
        }
      ]
    },
    {
      "cell_type": "code",
      "metadata": {
        "id": "7kyA9wlT7bOC"
      },
      "source": [
        ""
      ],
      "execution_count": null,
      "outputs": []
    },
    {
      "cell_type": "code",
      "metadata": {
        "id": "kYysJMpE7bOC",
        "outputId": "0126ccd8-5851-4533-87a7-f5c470ba64a6"
      },
      "source": [
        "high_income = True\n",
        "good_credit = True\n",
        "\n",
        "if high_income and good_credit:\n",
        "    print('Eligible for the loan')\n",
        "elif high_income and not good_credit:\n",
        "    print('He has a high income, but not a good credit')\n",
        "elif not high_income and good_credit:\n",
        "    print('He has not a high income, but has a good credit')\n",
        "else:\n",
        "    print('He has not a high income and not good_credit')"
      ],
      "execution_count": null,
      "outputs": [
        {
          "output_type": "stream",
          "text": [
            "Eligible for the loan\n"
          ],
          "name": "stdout"
        }
      ]
    },
    {
      "cell_type": "code",
      "metadata": {
        "id": "jLq5IEZR7bOC"
      },
      "source": [
        ""
      ],
      "execution_count": null,
      "outputs": []
    },
    {
      "cell_type": "markdown",
      "metadata": {
        "id": "aeKX264X7bOD"
      },
      "source": [
        "Building a better calculator"
      ]
    },
    {
      "cell_type": "code",
      "metadata": {
        "id": "jEnti8Er7bOD"
      },
      "source": [
        ""
      ],
      "execution_count": null,
      "outputs": []
    },
    {
      "cell_type": "code",
      "metadata": {
        "id": "JLBGEzbR7bOD"
      },
      "source": [
        ""
      ],
      "execution_count": null,
      "outputs": []
    },
    {
      "cell_type": "code",
      "metadata": {
        "id": "AjxZCXKv7bOD"
      },
      "source": [
        ""
      ],
      "execution_count": null,
      "outputs": []
    },
    {
      "cell_type": "code",
      "metadata": {
        "id": "-lE--kWC7bOD"
      },
      "source": [
        ""
      ],
      "execution_count": null,
      "outputs": []
    },
    {
      "cell_type": "code",
      "metadata": {
        "id": "Vc7BD8Ca7bOD",
        "outputId": "b9e1c32e-51f4-40e1-ddb4-1ab0d7419c79"
      },
      "source": [
        "num1= float(input('Enter a number: '))\n",
        "op= input('Enter an operator: ')\n",
        "num2 = float(input('Enter another number: '))\n",
        "\n",
        "if op=='+':\n",
        "    print(num1+num2)\n",
        "elif op=='-':\n",
        "    print(num1-num2)\n",
        "elif op=='/':\n",
        "    print(num1/num2)\n",
        "elif op=='*':\n",
        "    print(num1*num2)\n",
        "else:\n",
        "    print('Invalid operator')"
      ],
      "execution_count": null,
      "outputs": [
        {
          "output_type": "stream",
          "text": [
            "Enter a number: 18\n",
            "Enter an operator: *\n",
            "Enter another number: 15\n",
            "270.0\n"
          ],
          "name": "stdout"
        }
      ]
    },
    {
      "cell_type": "code",
      "metadata": {
        "id": "UNksN36l7bOE"
      },
      "source": [
        ""
      ],
      "execution_count": null,
      "outputs": []
    },
    {
      "cell_type": "code",
      "metadata": {
        "id": "GJH_ZplL7bOE",
        "outputId": "e2c87fa6-5fb2-489d-a3e7-6fb739bb75ea"
      },
      "source": [
        "x = 41\n",
        "\n",
        "if x > 10:\n",
        "    print(\"Above ten,\")\n",
        "    if x > 20:\n",
        "        print(\"and also above 20!\")\n",
        "    else:\n",
        "        print(\"but not above 20.\")"
      ],
      "execution_count": null,
      "outputs": [
        {
          "output_type": "stream",
          "text": [
            "Above ten,\n",
            "and also above 20!\n"
          ],
          "name": "stdout"
        }
      ]
    },
    {
      "cell_type": "code",
      "metadata": {
        "id": "Izqmt1w27bOE",
        "outputId": "2e992037-8c52-4ade-a255-4743ec17f429"
      },
      "source": [
        "if x > 10:\n",
        "    print(\"Above ten,\")\n",
        "elif x > 20:\n",
        "    print(\"and also above 20!\")\n",
        "else:\n",
        "    print(\"but not above 20.\")"
      ],
      "execution_count": null,
      "outputs": [
        {
          "output_type": "stream",
          "text": [
            "Above ten,\n"
          ],
          "name": "stdout"
        }
      ]
    },
    {
      "cell_type": "code",
      "metadata": {
        "id": "-H_c3esS7bOE"
      },
      "source": [
        ""
      ],
      "execution_count": null,
      "outputs": []
    }
  ]
}