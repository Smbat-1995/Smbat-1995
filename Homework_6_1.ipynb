{
  "nbformat": 4,
  "nbformat_minor": 0,
  "metadata": {
    "kernelspec": {
      "display_name": "Python 3",
      "language": "python",
      "name": "python3"
    },
    "language_info": {
      "codemirror_mode": {
        "name": "ipython",
        "version": 3
      },
      "file_extension": ".py",
      "mimetype": "text/x-python",
      "name": "python",
      "nbconvert_exporter": "python",
      "pygments_lexer": "ipython3",
      "version": "3.9.1+"
    },
    "colab": {
      "name": "Homework_6_1.ipynb",
      "provenance": []
    }
  },
  "cells": [
    {
      "cell_type": "markdown",
      "metadata": {
        "id": "WVUB4l2_hugb"
      },
      "source": [
        "### Task1\n",
        "\n",
        "Write a Python program to convert temperatures to and from celsius, fahrenheit.\n",
        "Formula : c/5 = f-32/9 where c = temperature in celsius and f = temperature in fahrenheit \n",
        "\n",
        "Expected Output : \n",
        "\n",
        "60°C is 140 in Fahrenheit\n",
        "\n",
        "45°F is 7 in Celsius "
      ]
    },
    {
      "cell_type": "code",
      "metadata": {
        "id": "5N_Dgvaehugi"
      },
      "source": [
        ""
      ],
      "execution_count": null,
      "outputs": []
    },
    {
      "cell_type": "markdown",
      "metadata": {
        "id": "t9pYF9fchugj"
      },
      "source": [
        "### Task2\n",
        "\n",
        "Write a Python program to get the Fibonacci series between 0 to 50.\n",
        "\n",
        "Note : The Fibonacci Sequence is the series of numbers :\n",
        "0, 1, 1, 2, 3, 5, 8, 13, 21, .... \n",
        "Every next number is found by adding up the two numbers before it."
      ]
    },
    {
      "cell_type": "code",
      "metadata": {
        "id": "qvf3mUj3hugk"
      },
      "source": [
        ""
      ],
      "execution_count": null,
      "outputs": []
    },
    {
      "cell_type": "markdown",
      "metadata": {
        "id": "HrOYcUTqhugk"
      },
      "source": [
        "### Task3\n",
        "\n",
        "Write a Python program to calculate a dog's age in dog's years.For the first two years, a dog year is equal to 10.5 human years. After that, each dog year equals 4 human years.\n",
        "\n",
        "Expected Output:\n",
        "\n",
        "Input a dog's age in human years: 15                                    \n",
        "The dog's age in dog's years is 73"
      ]
    },
    {
      "cell_type": "code",
      "metadata": {
        "id": "TVJEg1xjhugk"
      },
      "source": [
        ""
      ],
      "execution_count": null,
      "outputs": []
    },
    {
      "cell_type": "markdown",
      "metadata": {
        "id": "uHnK_VsChugk"
      },
      "source": [
        "### Task4\n",
        "\n",
        "This is your list: [10, 99, 98, 85, 45, 59, 65, 66, 76, 12, 35, 13, 100, 80, 95]\n",
        "\n",
        "Iterate through the list and if there is a 13, print it with its index number. i.e.: \"There is a 13 at index no: 5\""
      ]
    },
    {
      "cell_type": "code",
      "metadata": {
        "id": "-aMT_hg-hugk"
      },
      "source": [
        ""
      ],
      "execution_count": null,
      "outputs": []
    },
    {
      "cell_type": "markdown",
      "metadata": {
        "id": "H7Xze0xGhugl"
      },
      "source": [
        "### Task5\n",
        "\n",
        "Write a Python program to find the median of three values.\n",
        "Expected Output:\n",
        "\n",
        "Input first number: 30                                               \n",
        "Input second number: 26                                                 \n",
        "Input third number: 29                                                  \n",
        "The median is 29\n"
      ]
    },
    {
      "cell_type": "code",
      "metadata": {
        "id": "Qg5dWfRNhugl"
      },
      "source": [
        ""
      ],
      "execution_count": null,
      "outputs": []
    }
  ]
}